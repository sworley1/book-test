{
 "cells": [
  {
   "cell_type": "markdown",
   "metadata": {},
   "source": [
    "# Interactive Tables in Jupyter Book\n",
    "---\n",
    "A look at the `itables` package \n",
    "\n",
    "[Link](https://mwouts.github.io/itables/advanced_parameters.html)"
   ]
  },
  {
   "cell_type": "code",
   "execution_count": 1,
   "metadata": {
    "execution": {
     "iopub.execute_input": "2022-05-09T15:35:01.098984Z",
     "iopub.status.busy": "2022-05-09T15:35:01.098298Z",
     "iopub.status.idle": "2022-05-09T15:35:01.338927Z",
     "shell.execute_reply": "2022-05-09T15:35:01.339312Z"
    },
    "tags": [
     "remove-cell"
    ]
   },
   "outputs": [],
   "source": [
    "# HIDDEN\n",
    "from itables import init_notebook_mode\n",
    "#init_notebook_mode(all_interactive=True)"
   ]
  },
  {
   "cell_type": "code",
   "execution_count": 2,
   "metadata": {
    "execution": {
     "iopub.execute_input": "2022-05-09T15:35:01.343231Z",
     "iopub.status.busy": "2022-05-09T15:35:01.342724Z",
     "iopub.status.idle": "2022-05-09T15:35:01.430508Z",
     "shell.execute_reply": "2022-05-09T15:35:01.430878Z"
    },
    "tags": [
     "hide-input"
    ]
   },
   "outputs": [
    {
     "data": {
      "text/html": [
       "<div>\n",
       "<style scoped>\n",
       "    .dataframe tbody tr th:only-of-type {\n",
       "        vertical-align: middle;\n",
       "    }\n",
       "\n",
       "    .dataframe tbody tr th {\n",
       "        vertical-align: top;\n",
       "    }\n",
       "\n",
       "    .dataframe thead th {\n",
       "        text-align: right;\n",
       "    }\n",
       "</style>\n",
       "<table border=\"1\" class=\"dataframe\">\n",
       "  <thead>\n",
       "    <tr style=\"text-align: right;\">\n",
       "      <th></th>\n",
       "      <th>date</th>\n",
       "      <th>state</th>\n",
       "      <th>fips</th>\n",
       "      <th>cases</th>\n",
       "      <th>deaths</th>\n",
       "      <th>confirmed_cases</th>\n",
       "      <th>confirmed_deaths</th>\n",
       "      <th>probable_cases</th>\n",
       "      <th>probable_deaths</th>\n",
       "    </tr>\n",
       "  </thead>\n",
       "  <tbody>\n",
       "    <tr>\n",
       "      <th>0</th>\n",
       "      <td>2022-05-09</td>\n",
       "      <td>Alabama</td>\n",
       "      <td>1</td>\n",
       "      <td>1302397</td>\n",
       "      <td>19601</td>\n",
       "      <td>936849.0</td>\n",
       "      <td>15054.0</td>\n",
       "      <td>365548.0</td>\n",
       "      <td>4547.0</td>\n",
       "    </tr>\n",
       "    <tr>\n",
       "      <th>1</th>\n",
       "      <td>2022-05-09</td>\n",
       "      <td>Alaska</td>\n",
       "      <td>2</td>\n",
       "      <td>252847</td>\n",
       "      <td>1213</td>\n",
       "      <td>0.0</td>\n",
       "      <td>1213.0</td>\n",
       "      <td>252847.0</td>\n",
       "      <td>0.0</td>\n",
       "    </tr>\n",
       "    <tr>\n",
       "      <th>2</th>\n",
       "      <td>2022-05-09</td>\n",
       "      <td>American Samoa</td>\n",
       "      <td>60</td>\n",
       "      <td>5812</td>\n",
       "      <td>27</td>\n",
       "      <td>5812.0</td>\n",
       "      <td>27.0</td>\n",
       "      <td>0.0</td>\n",
       "      <td>0.0</td>\n",
       "    </tr>\n",
       "    <tr>\n",
       "      <th>3</th>\n",
       "      <td>2022-05-09</td>\n",
       "      <td>Arizona</td>\n",
       "      <td>4</td>\n",
       "      <td>2025435</td>\n",
       "      <td>30189</td>\n",
       "      <td>NaN</td>\n",
       "      <td>NaN</td>\n",
       "      <td>NaN</td>\n",
       "      <td>NaN</td>\n",
       "    </tr>\n",
       "    <tr>\n",
       "      <th>4</th>\n",
       "      <td>2022-05-09</td>\n",
       "      <td>Arkansas</td>\n",
       "      <td>5</td>\n",
       "      <td>837154</td>\n",
       "      <td>11408</td>\n",
       "      <td>0.0</td>\n",
       "      <td>NaN</td>\n",
       "      <td>837154.0</td>\n",
       "      <td>NaN</td>\n",
       "    </tr>\n",
       "  </tbody>\n",
       "</table>\n",
       "</div>"
      ],
      "text/plain": [
       "         date           state  fips    cases  deaths  confirmed_cases  \\\n",
       "0  2022-05-09         Alabama     1  1302397   19601         936849.0   \n",
       "1  2022-05-09          Alaska     2   252847    1213              0.0   \n",
       "2  2022-05-09  American Samoa    60     5812      27           5812.0   \n",
       "3  2022-05-09         Arizona     4  2025435   30189              NaN   \n",
       "4  2022-05-09        Arkansas     5   837154   11408              0.0   \n",
       "\n",
       "   confirmed_deaths  probable_cases  probable_deaths  \n",
       "0           15054.0        365548.0           4547.0  \n",
       "1            1213.0        252847.0              0.0  \n",
       "2              27.0             0.0              0.0  \n",
       "3               NaN             NaN              NaN  \n",
       "4               NaN        837154.0              NaN  "
      ]
     },
     "execution_count": 1,
     "metadata": {},
     "output_type": "execute_result"
    }
   ],
   "source": [
    "# HIDE CODE\n",
    "from itables import show\n",
    "import pandas as pd \n",
    "\n",
    "df = pd.read_csv(\"https://raw.githubusercontent.com/nytimes/covid-19-data/master/live/us-states.csv\")\n",
    "df[:5]"
   ]
  },
  {
   "cell_type": "markdown",
   "metadata": {},
   "source": [
    "using the `show()` function "
   ]
  },
  {
   "cell_type": "code",
   "execution_count": 3,
   "metadata": {
    "execution": {
     "iopub.execute_input": "2022-05-09T15:35:01.434631Z",
     "iopub.status.busy": "2022-05-09T15:35:01.434092Z",
     "iopub.status.idle": "2022-05-09T15:35:01.447826Z",
     "shell.execute_reply": "2022-05-09T15:35:01.448174Z"
    }
   },
   "outputs": [
    {
     "data": {
      "text/html": [
       "<table id=\"468e6660-84a3-455b-90b6-4afa1cf5da57\" class=\"display\"style=\"max-width:100%\"><thead>\n",
       "    <tr style=\"text-align: right;\">\n",
       "      \n",
       "      <th>date</th>\n",
       "      <th>state</th>\n",
       "      <th>fips</th>\n",
       "      <th>cases</th>\n",
       "      <th>deaths</th>\n",
       "      <th>confirmed_cases</th>\n",
       "      <th>confirmed_deaths</th>\n",
       "      <th>probable_cases</th>\n",
       "      <th>probable_deaths</th>\n",
       "    </tr>\n",
       "  </thead><tbody><tr><td>Loading... (need <a href=https://mwouts.github.io/itables/troubleshooting.html>help</a>?)</td></tr></tbody></table>\n",
       "<link rel=\"stylesheet\" type=\"text/css\" href=\"https://cdn.datatables.net/1.11.3/css/jquery.dataTables.min.css\">\n",
       "<style> table td {\n",
       "    text-overflow: ellipsis;\n",
       "    overflow: hidden;\n",
       "} </style>\n",
       "<style> table th {\n",
       "    text-overflow: ellipsis;\n",
       "    overflow: hidden;\n",
       "} </style>\n",
       "<script type=\"module\">\n",
       "    // Define the table data\n",
       "    const data = [[\"2022-05-09\", \"Alabama\", 1, 1302397, 19601, 936849.0, 15054.0, 365548.0, 4547.0], [\"2022-05-09\", \"Alaska\", 2, 252847, 1213, 0.0, 1213.0, 252847.0, 0.0], [\"2022-05-09\", \"American Samoa\", 60, 5812, 27, 5812.0, 27.0, 0.0, 0.0], [\"2022-05-09\", \"Arizona\", 4, 2025435, 30189, NaN, NaN, NaN, NaN], [\"2022-05-09\", \"Arkansas\", 5, 837154, 11408, 0.0, NaN, 837154.0, NaN], [\"2022-05-09\", \"California\", 6, 9290555, 90706, 8879458.0, 90445.0, 411097.0, 261.0], [\"2022-05-09\", \"Colorado\", 8, 1396996, 12694, NaN, NaN, NaN, NaN], [\"2022-05-09\", \"Connecticut\", 9, 766172, 10874, NaN, NaN, NaN, NaN], [\"2022-05-09\", \"Delaware\", 10, 264376, 2928, NaN, NaN, NaN, NaN], [\"2022-05-09\", \"District of Columbia\", 11, 141943, 1340, 134623.0, 1319.0, 7320.0, 21.0], [\"2022-05-09\", \"Florida\", 12, 5964125, 74085, 0.0, NaN, 5964125.0, NaN], [\"2022-05-09\", \"Georgia\", 13, 2452012, 36498, 1891430.0, 30653.0, 560582.0, 5845.0], [\"2022-05-09\", \"Guam\", 66, 49292, 356, 41692.0, 356.0, 7600.0, 0.0], [\"2022-05-09\", \"Hawaii\", 15, 246110, 1425, NaN, NaN, NaN, NaN], [\"2022-05-09\", \"Idaho\", 16, 446956, 4931, 350103.0, 4015.0, 96853.0, 916.0], [\"2022-05-09\", \"Illinois\", 17, 3174977, 37956, 2684198.0, 33696.0, 490779.0, 4260.0], [\"2022-05-09\", \"Indiana\", 18, 1707085, 23614, 1705394.0, 22650.0, 1691.0, 964.0], [\"2022-05-09\", \"Iowa\", 19, 766593, 9533, 591247.0, NaN, 175346.0, NaN], [\"2022-05-09\", \"Kansas\", 20, 778898, 8691, NaN, NaN, NaN, NaN], [\"2022-05-09\", \"Kentucky\", 21, 1340691, 15572, NaN, NaN, NaN, NaN], [\"2022-05-09\", \"Louisiana\", 22, 1240538, 17276, 893408.0, 14695.0, 347130.0, 2581.0], [\"2022-05-09\", \"Maine\", 23, 250689, 2325, 181359.0, 2325.0, 69330.0, 0.0], [\"2022-05-09\", \"Maryland\", 24, 1040041, 14486, 1039776.0, 14221.0, 265.0, 265.0], [\"2022-05-09\", \"Massachusetts\", 25, 1779829, 20334, 1638144.0, 19198.0, 141685.0, 1136.0], [\"2022-05-09\", \"Michigan\", 26, 2444891, 36064, 2122010.0, 33162.0, 322881.0, 2902.0], [\"2022-05-09\", \"Minnesota\", 27, 1464235, 12805, 1260763.0, NaN, 203472.0, NaN], [\"2022-05-09\", \"Mississippi\", 28, 798721, 12454, 438792.0, 8203.0, 359929.0, 4251.0], [\"2022-05-09\", \"Missouri\", 29, 1447441, 20555, 502584.0, 6427.0, 944857.0, 14128.0], [\"2022-05-09\", \"Montana\", 30, 274835, 3378, 274835.0, 3378.0, 0.0, 0.0], [\"2022-05-09\", \"Nebraska\", 31, 480805, 4216, 126154.0, 839.0, 354651.0, 3377.0], [\"2022-05-09\", \"Nevada\", 32, 722133, 10787, 660688.0, 10780.0, 61445.0, 7.0], [\"2022-05-09\", \"New Hampshire\", 33, 313288, 2487, 0.0, NaN, 313288.0, NaN], [\"2022-05-09\", \"New Jersey\", 34, 2288950, 33489, 1970847.0, 30443.0, 318103.0, 3046.0], [\"2022-05-09\", \"New Mexico\", 35, 523940, 7558, 523940.0, 7558.0, 0.0, 0.0], [\"2022-05-09\", \"New York\", 36, 5215540, 67816, 5215540.0, 62303.0, 0.0, 5513.0], [\"2022-05-09\", \"North Carolina\", 37, 2675505, 24587, 75933.0, 330.0, 2599572.0, 24257.0], [\"2022-05-09\", \"North Dakota\", 38, 241739, 2315, 179793.0, NaN, 61946.0, NaN], [\"2022-05-09\", \"Northern Mariana Islands\", 69, 11281, 34, 11281.0, 34.0, 0.0, 0.0], [\"2022-05-09\", \"Ohio\", 39, 2708071, 38495, NaN, NaN, NaN, NaN], [\"2022-05-09\", \"Oklahoma\", 40, 1042637, 14346, 0.0, NaN, 1042637.0, NaN], [\"2022-05-09\", \"Oregon\", 41, 729413, 7528, 0.0, NaN, 729413.0, NaN], [\"2022-05-09\", \"Pennsylvania\", 42, 2829027, 44733, NaN, NaN, NaN, NaN], [\"2022-05-09\", \"Puerto Rico\", 72, 601665, 4232, 300204.0, 0.0, 301461.0, 4232.0], [\"2022-05-09\", \"Rhode Island\", 44, 375897, 3544, 0.0, NaN, 375897.0, NaN], [\"2022-05-09\", \"South Carolina\", 45, 1477345, 17847, 1160735.0, 15209.0, 316610.0, 2638.0], [\"2022-05-09\", \"South Dakota\", 46, 238185, 2915, 0.0, NaN, 238185.0, NaN], [\"2022-05-09\", \"Tennessee\", 47, 1986036, 25936, 1486009.0, 4035.0, 500027.0, 21901.0], [\"2022-05-09\", \"Texas\", 48, 6773157, 88376, 5531960.0, 31434.0, 1241197.0, 56942.0], [\"2022-05-09\", \"Utah\", 49, 935708, 4760, 0.0, 4531.0, 935708.0, 229.0], [\"2022-05-09\", \"Vermont\", 50, 126099, 642, 0.0, NaN, 126099.0, NaN], [\"2022-05-09\", \"Virginia\", 51, 1715478, 20280, NaN, NaN, NaN, NaN], [\"2022-05-09\", \"Virgin Islands\", 78, 17167, 113, 17167.0, 113.0, 0.0, 0.0], [\"2022-05-09\", \"Washington\", 53, 1514314, 12771, 1288539.0, 3310.0, 225775.0, 9461.0], [\"2022-05-09\", \"West Virginia\", 54, 502930, 6880, 398382.0, NaN, 104548.0, NaN], [\"2022-05-09\", \"Wisconsin\", 55, 1623093, 14464, 1426776.0, 12919.0, 196317.0, 1545.0], [\"2022-05-09\", \"Wyoming\", 56, 156745, 1814, 123664.0, NaN, 33081.0, NaN]];\n",
       "\n",
       "    if (typeof require === 'undefined') {\n",
       "        // TODO: This should become the default (use a simple import)\n",
       "        // when the ESM version works independently of whether\n",
       "        // require.js is there or not, see\n",
       "        // https://datatables.net/forums/discussion/69066/esm-es6-module-support?\n",
       "        const {default: $} = await import(\"https://esm.sh/jquery@3.5.0\");\n",
       "        const {default: initDataTables} = await import(\"https://esm.sh/datatables.net@1.11.3?deps=jquery@3.5.0\");\n",
       "\n",
       "        initDataTables();\n",
       "\n",
       "        // Define the dt_args\n",
       "        let dt_args = {\"scrollY\": \"400px\", \"scrollCollapse\": true, \"paging\": false};\n",
       "        dt_args[\"data\"] = data;\n",
       "\n",
       "        // Display the table\n",
       "        $(document).ready(function () {\n",
       "            $('#468e6660-84a3-455b-90b6-4afa1cf5da57').DataTable(dt_args);\n",
       "        });\n",
       "    } else {\n",
       "        require([\"jquery\", \"datatables\"], ($, datatables) => {\n",
       "                // Define the dt_args\n",
       "                let dt_args = {\"scrollY\": \"400px\", \"scrollCollapse\": true, \"paging\": false};\n",
       "                dt_args[\"data\"] = data;\n",
       "\n",
       "                // Display the table\n",
       "                $(document).ready(function () {\n",
       "                    $('#468e6660-84a3-455b-90b6-4afa1cf5da57').DataTable(dt_args);\n",
       "                });\n",
       "            }\n",
       "        )\n",
       "    }\n",
       "</script>\n"
      ],
      "text/plain": [
       "<IPython.core.display.HTML object>"
      ]
     },
     "metadata": {},
     "output_type": "display_data"
    }
   ],
   "source": [
    "show(df, scrollY=\"400px\", scrollCollapse=True, paging=False)"
   ]
  },
  {
   "cell_type": "code",
   "execution_count": 4,
   "metadata": {
    "execution": {
     "iopub.execute_input": "2022-05-09T15:35:01.450856Z",
     "iopub.status.busy": "2022-05-09T15:35:01.450361Z",
     "iopub.status.idle": "2022-05-09T15:35:01.560593Z",
     "shell.execute_reply": "2022-05-09T15:35:01.560993Z"
    },
    "tags": [
     "remove-cell"
    ]
   },
   "outputs": [
    {
     "data": {
      "text/plain": [
       "DataTransformerRegistry.enable('default')"
      ]
     },
     "execution_count": 1,
     "metadata": {},
     "output_type": "execute_result"
    }
   ],
   "source": [
    "# HIDDEN \n",
    "import altair as alt\n",
    "alt.data_transformers.disable_max_rows()"
   ]
  },
  {
   "cell_type": "code",
   "execution_count": 5,
   "metadata": {
    "execution": {
     "iopub.execute_input": "2022-05-09T15:35:01.585992Z",
     "iopub.status.busy": "2022-05-09T15:35:01.585020Z",
     "iopub.status.idle": "2022-05-09T15:35:01.588222Z",
     "shell.execute_reply": "2022-05-09T15:35:01.588617Z"
    }
   },
   "outputs": [
    {
     "data": {
      "text/html": [
       "\n",
       "<div id=\"altair-viz-9672e13e43e4427d8fe13c7e759b2eb6\"></div>\n",
       "<script type=\"text/javascript\">\n",
       "  (function(spec, embedOpt){\n",
       "    let outputDiv = document.currentScript.previousElementSibling;\n",
       "    if (outputDiv.id !== \"altair-viz-9672e13e43e4427d8fe13c7e759b2eb6\") {\n",
       "      outputDiv = document.getElementById(\"altair-viz-9672e13e43e4427d8fe13c7e759b2eb6\");\n",
       "    }\n",
       "    const paths = {\n",
       "      \"vega\": \"https://cdn.jsdelivr.net/npm//vega@5?noext\",\n",
       "      \"vega-lib\": \"https://cdn.jsdelivr.net/npm//vega-lib?noext\",\n",
       "      \"vega-lite\": \"https://cdn.jsdelivr.net/npm//vega-lite@4.8.1?noext\",\n",
       "      \"vega-embed\": \"https://cdn.jsdelivr.net/npm//vega-embed@6?noext\",\n",
       "    };\n",
       "\n",
       "    function loadScript(lib) {\n",
       "      return new Promise(function(resolve, reject) {\n",
       "        var s = document.createElement('script');\n",
       "        s.src = paths[lib];\n",
       "        s.async = true;\n",
       "        s.onload = () => resolve(paths[lib]);\n",
       "        s.onerror = () => reject(`Error loading script: ${paths[lib]}`);\n",
       "        document.getElementsByTagName(\"head\")[0].appendChild(s);\n",
       "      });\n",
       "    }\n",
       "\n",
       "    function showError(err) {\n",
       "      outputDiv.innerHTML = `<div class=\"error\" style=\"color:red;\">${err}</div>`;\n",
       "      throw err;\n",
       "    }\n",
       "\n",
       "    function displayChart(vegaEmbed) {\n",
       "      vegaEmbed(outputDiv, spec, embedOpt)\n",
       "        .catch(err => showError(`Javascript Error: ${err.message}<br>This usually means there's a typo in your chart specification. See the javascript console for the full traceback.`));\n",
       "    }\n",
       "\n",
       "    if(typeof define === \"function\" && define.amd) {\n",
       "      requirejs.config({paths});\n",
       "      require([\"vega-embed\"], displayChart, err => showError(`Error loading script: ${err.message}`));\n",
       "    } else if (typeof vegaEmbed === \"function\") {\n",
       "      displayChart(vegaEmbed);\n",
       "    } else {\n",
       "      loadScript(\"vega\")\n",
       "        .then(() => loadScript(\"vega-lite\"))\n",
       "        .then(() => loadScript(\"vega-embed\"))\n",
       "        .catch(showError)\n",
       "        .then(() => displayChart(vegaEmbed));\n",
       "    }\n",
       "  })({\"config\": {\"view\": {\"continuousWidth\": 400, \"continuousHeight\": 300}, \"axis\": {\"labelColor\": \"white\", \"titleColor\": \"white\"}, \"background\": \"#754861\", \"font\": \"Asap\", \"title\": {\"color\": \"white\", \"font\": \"Asap\", \"fontSize\": 16}}, \"data\": {\"name\": \"data-e1f505e52a178ce1f2fd2ed2a0af48bf\"}, \"mark\": {\"type\": \"bar\", \"color\": \"#56bf84\"}, \"encoding\": {\"x\": {\"type\": \"quantitative\", \"field\": \"confirmed_cases\", \"title\": \"Confirmed Cases\"}, \"y\": {\"type\": \"nominal\", \"field\": \"state\", \"sort\": \"-x\", \"title\": null}}, \"title\": \"Number of Confirmed Cases by State\", \"width\": 500, \"$schema\": \"https://vega.github.io/schema/vega-lite/v4.8.1.json\", \"datasets\": {\"data-e1f505e52a178ce1f2fd2ed2a0af48bf\": [{\"date\": \"2022-05-09\", \"state\": \"Alabama\", \"fips\": 1, \"cases\": 1302397, \"deaths\": 19601, \"confirmed_cases\": 936849.0, \"confirmed_deaths\": 15054.0, \"probable_cases\": 365548.0, \"probable_deaths\": 4547.0}, {\"date\": \"2022-05-09\", \"state\": \"Alaska\", \"fips\": 2, \"cases\": 252847, \"deaths\": 1213, \"confirmed_cases\": 0.0, \"confirmed_deaths\": 1213.0, \"probable_cases\": 252847.0, \"probable_deaths\": 0.0}, {\"date\": \"2022-05-09\", \"state\": \"American Samoa\", \"fips\": 60, \"cases\": 5812, \"deaths\": 27, \"confirmed_cases\": 5812.0, \"confirmed_deaths\": 27.0, \"probable_cases\": 0.0, \"probable_deaths\": 0.0}, {\"date\": \"2022-05-09\", \"state\": \"Arizona\", \"fips\": 4, \"cases\": 2025435, \"deaths\": 30189, \"confirmed_cases\": null, \"confirmed_deaths\": null, \"probable_cases\": null, \"probable_deaths\": null}, {\"date\": \"2022-05-09\", \"state\": \"Arkansas\", \"fips\": 5, \"cases\": 837154, \"deaths\": 11408, \"confirmed_cases\": 0.0, \"confirmed_deaths\": null, \"probable_cases\": 837154.0, \"probable_deaths\": null}, {\"date\": \"2022-05-09\", \"state\": \"California\", \"fips\": 6, \"cases\": 9290555, \"deaths\": 90706, \"confirmed_cases\": 8879458.0, \"confirmed_deaths\": 90445.0, \"probable_cases\": 411097.0, \"probable_deaths\": 261.0}, {\"date\": \"2022-05-09\", \"state\": \"Colorado\", \"fips\": 8, \"cases\": 1396996, \"deaths\": 12694, \"confirmed_cases\": null, \"confirmed_deaths\": null, \"probable_cases\": null, \"probable_deaths\": null}, {\"date\": \"2022-05-09\", \"state\": \"Connecticut\", \"fips\": 9, \"cases\": 766172, \"deaths\": 10874, \"confirmed_cases\": null, \"confirmed_deaths\": null, \"probable_cases\": null, \"probable_deaths\": null}, {\"date\": \"2022-05-09\", \"state\": \"Delaware\", \"fips\": 10, \"cases\": 264376, \"deaths\": 2928, \"confirmed_cases\": null, \"confirmed_deaths\": null, \"probable_cases\": null, \"probable_deaths\": null}, {\"date\": \"2022-05-09\", \"state\": \"District of Columbia\", \"fips\": 11, \"cases\": 141943, \"deaths\": 1340, \"confirmed_cases\": 134623.0, \"confirmed_deaths\": 1319.0, \"probable_cases\": 7320.0, \"probable_deaths\": 21.0}, {\"date\": \"2022-05-09\", \"state\": \"Florida\", \"fips\": 12, \"cases\": 5964125, \"deaths\": 74085, \"confirmed_cases\": 0.0, \"confirmed_deaths\": null, \"probable_cases\": 5964125.0, \"probable_deaths\": null}, {\"date\": \"2022-05-09\", \"state\": \"Georgia\", \"fips\": 13, \"cases\": 2452012, \"deaths\": 36498, \"confirmed_cases\": 1891430.0, \"confirmed_deaths\": 30653.0, \"probable_cases\": 560582.0, \"probable_deaths\": 5845.0}, {\"date\": \"2022-05-09\", \"state\": \"Guam\", \"fips\": 66, \"cases\": 49292, \"deaths\": 356, \"confirmed_cases\": 41692.0, \"confirmed_deaths\": 356.0, \"probable_cases\": 7600.0, \"probable_deaths\": 0.0}, {\"date\": \"2022-05-09\", \"state\": \"Hawaii\", \"fips\": 15, \"cases\": 246110, \"deaths\": 1425, \"confirmed_cases\": null, \"confirmed_deaths\": null, \"probable_cases\": null, \"probable_deaths\": null}, {\"date\": \"2022-05-09\", \"state\": \"Idaho\", \"fips\": 16, \"cases\": 446956, \"deaths\": 4931, \"confirmed_cases\": 350103.0, \"confirmed_deaths\": 4015.0, \"probable_cases\": 96853.0, \"probable_deaths\": 916.0}, {\"date\": \"2022-05-09\", \"state\": \"Illinois\", \"fips\": 17, \"cases\": 3174977, \"deaths\": 37956, \"confirmed_cases\": 2684198.0, \"confirmed_deaths\": 33696.0, \"probable_cases\": 490779.0, \"probable_deaths\": 4260.0}, {\"date\": \"2022-05-09\", \"state\": \"Indiana\", \"fips\": 18, \"cases\": 1707085, \"deaths\": 23614, \"confirmed_cases\": 1705394.0, \"confirmed_deaths\": 22650.0, \"probable_cases\": 1691.0, \"probable_deaths\": 964.0}, {\"date\": \"2022-05-09\", \"state\": \"Iowa\", \"fips\": 19, \"cases\": 766593, \"deaths\": 9533, \"confirmed_cases\": 591247.0, \"confirmed_deaths\": null, \"probable_cases\": 175346.0, \"probable_deaths\": null}, {\"date\": \"2022-05-09\", \"state\": \"Kansas\", \"fips\": 20, \"cases\": 778898, \"deaths\": 8691, \"confirmed_cases\": null, \"confirmed_deaths\": null, \"probable_cases\": null, \"probable_deaths\": null}, {\"date\": \"2022-05-09\", \"state\": \"Kentucky\", \"fips\": 21, \"cases\": 1340691, \"deaths\": 15572, \"confirmed_cases\": null, \"confirmed_deaths\": null, \"probable_cases\": null, \"probable_deaths\": null}, {\"date\": \"2022-05-09\", \"state\": \"Louisiana\", \"fips\": 22, \"cases\": 1240538, \"deaths\": 17276, \"confirmed_cases\": 893408.0, \"confirmed_deaths\": 14695.0, \"probable_cases\": 347130.0, \"probable_deaths\": 2581.0}, {\"date\": \"2022-05-09\", \"state\": \"Maine\", \"fips\": 23, \"cases\": 250689, \"deaths\": 2325, \"confirmed_cases\": 181359.0, \"confirmed_deaths\": 2325.0, \"probable_cases\": 69330.0, \"probable_deaths\": 0.0}, {\"date\": \"2022-05-09\", \"state\": \"Maryland\", \"fips\": 24, \"cases\": 1040041, \"deaths\": 14486, \"confirmed_cases\": 1039776.0, \"confirmed_deaths\": 14221.0, \"probable_cases\": 265.0, \"probable_deaths\": 265.0}, {\"date\": \"2022-05-09\", \"state\": \"Massachusetts\", \"fips\": 25, \"cases\": 1779829, \"deaths\": 20334, \"confirmed_cases\": 1638144.0, \"confirmed_deaths\": 19198.0, \"probable_cases\": 141685.0, \"probable_deaths\": 1136.0}, {\"date\": \"2022-05-09\", \"state\": \"Michigan\", \"fips\": 26, \"cases\": 2444891, \"deaths\": 36064, \"confirmed_cases\": 2122010.0, \"confirmed_deaths\": 33162.0, \"probable_cases\": 322881.0, \"probable_deaths\": 2902.0}, {\"date\": \"2022-05-09\", \"state\": \"Minnesota\", \"fips\": 27, \"cases\": 1464235, \"deaths\": 12805, \"confirmed_cases\": 1260763.0, \"confirmed_deaths\": null, \"probable_cases\": 203472.0, \"probable_deaths\": null}, {\"date\": \"2022-05-09\", \"state\": \"Mississippi\", \"fips\": 28, \"cases\": 798721, \"deaths\": 12454, \"confirmed_cases\": 438792.0, \"confirmed_deaths\": 8203.0, \"probable_cases\": 359929.0, \"probable_deaths\": 4251.0}, {\"date\": \"2022-05-09\", \"state\": \"Missouri\", \"fips\": 29, \"cases\": 1447441, \"deaths\": 20555, \"confirmed_cases\": 502584.0, \"confirmed_deaths\": 6427.0, \"probable_cases\": 944857.0, \"probable_deaths\": 14128.0}, {\"date\": \"2022-05-09\", \"state\": \"Montana\", \"fips\": 30, \"cases\": 274835, \"deaths\": 3378, \"confirmed_cases\": 274835.0, \"confirmed_deaths\": 3378.0, \"probable_cases\": 0.0, \"probable_deaths\": 0.0}, {\"date\": \"2022-05-09\", \"state\": \"Nebraska\", \"fips\": 31, \"cases\": 480805, \"deaths\": 4216, \"confirmed_cases\": 126154.0, \"confirmed_deaths\": 839.0, \"probable_cases\": 354651.0, \"probable_deaths\": 3377.0}, {\"date\": \"2022-05-09\", \"state\": \"Nevada\", \"fips\": 32, \"cases\": 722133, \"deaths\": 10787, \"confirmed_cases\": 660688.0, \"confirmed_deaths\": 10780.0, \"probable_cases\": 61445.0, \"probable_deaths\": 7.0}, {\"date\": \"2022-05-09\", \"state\": \"New Hampshire\", \"fips\": 33, \"cases\": 313288, \"deaths\": 2487, \"confirmed_cases\": 0.0, \"confirmed_deaths\": null, \"probable_cases\": 313288.0, \"probable_deaths\": null}, {\"date\": \"2022-05-09\", \"state\": \"New Jersey\", \"fips\": 34, \"cases\": 2288950, \"deaths\": 33489, \"confirmed_cases\": 1970847.0, \"confirmed_deaths\": 30443.0, \"probable_cases\": 318103.0, \"probable_deaths\": 3046.0}, {\"date\": \"2022-05-09\", \"state\": \"New Mexico\", \"fips\": 35, \"cases\": 523940, \"deaths\": 7558, \"confirmed_cases\": 523940.0, \"confirmed_deaths\": 7558.0, \"probable_cases\": 0.0, \"probable_deaths\": 0.0}, {\"date\": \"2022-05-09\", \"state\": \"New York\", \"fips\": 36, \"cases\": 5215540, \"deaths\": 67816, \"confirmed_cases\": 5215540.0, \"confirmed_deaths\": 62303.0, \"probable_cases\": 0.0, \"probable_deaths\": 5513.0}, {\"date\": \"2022-05-09\", \"state\": \"North Carolina\", \"fips\": 37, \"cases\": 2675505, \"deaths\": 24587, \"confirmed_cases\": 75933.0, \"confirmed_deaths\": 330.0, \"probable_cases\": 2599572.0, \"probable_deaths\": 24257.0}, {\"date\": \"2022-05-09\", \"state\": \"North Dakota\", \"fips\": 38, \"cases\": 241739, \"deaths\": 2315, \"confirmed_cases\": 179793.0, \"confirmed_deaths\": null, \"probable_cases\": 61946.0, \"probable_deaths\": null}, {\"date\": \"2022-05-09\", \"state\": \"Northern Mariana Islands\", \"fips\": 69, \"cases\": 11281, \"deaths\": 34, \"confirmed_cases\": 11281.0, \"confirmed_deaths\": 34.0, \"probable_cases\": 0.0, \"probable_deaths\": 0.0}, {\"date\": \"2022-05-09\", \"state\": \"Ohio\", \"fips\": 39, \"cases\": 2708071, \"deaths\": 38495, \"confirmed_cases\": null, \"confirmed_deaths\": null, \"probable_cases\": null, \"probable_deaths\": null}, {\"date\": \"2022-05-09\", \"state\": \"Oklahoma\", \"fips\": 40, \"cases\": 1042637, \"deaths\": 14346, \"confirmed_cases\": 0.0, \"confirmed_deaths\": null, \"probable_cases\": 1042637.0, \"probable_deaths\": null}, {\"date\": \"2022-05-09\", \"state\": \"Oregon\", \"fips\": 41, \"cases\": 729413, \"deaths\": 7528, \"confirmed_cases\": 0.0, \"confirmed_deaths\": null, \"probable_cases\": 729413.0, \"probable_deaths\": null}, {\"date\": \"2022-05-09\", \"state\": \"Pennsylvania\", \"fips\": 42, \"cases\": 2829027, \"deaths\": 44733, \"confirmed_cases\": null, \"confirmed_deaths\": null, \"probable_cases\": null, \"probable_deaths\": null}, {\"date\": \"2022-05-09\", \"state\": \"Puerto Rico\", \"fips\": 72, \"cases\": 601665, \"deaths\": 4232, \"confirmed_cases\": 300204.0, \"confirmed_deaths\": 0.0, \"probable_cases\": 301461.0, \"probable_deaths\": 4232.0}, {\"date\": \"2022-05-09\", \"state\": \"Rhode Island\", \"fips\": 44, \"cases\": 375897, \"deaths\": 3544, \"confirmed_cases\": 0.0, \"confirmed_deaths\": null, \"probable_cases\": 375897.0, \"probable_deaths\": null}, {\"date\": \"2022-05-09\", \"state\": \"South Carolina\", \"fips\": 45, \"cases\": 1477345, \"deaths\": 17847, \"confirmed_cases\": 1160735.0, \"confirmed_deaths\": 15209.0, \"probable_cases\": 316610.0, \"probable_deaths\": 2638.0}, {\"date\": \"2022-05-09\", \"state\": \"South Dakota\", \"fips\": 46, \"cases\": 238185, \"deaths\": 2915, \"confirmed_cases\": 0.0, \"confirmed_deaths\": null, \"probable_cases\": 238185.0, \"probable_deaths\": null}, {\"date\": \"2022-05-09\", \"state\": \"Tennessee\", \"fips\": 47, \"cases\": 1986036, \"deaths\": 25936, \"confirmed_cases\": 1486009.0, \"confirmed_deaths\": 4035.0, \"probable_cases\": 500027.0, \"probable_deaths\": 21901.0}, {\"date\": \"2022-05-09\", \"state\": \"Texas\", \"fips\": 48, \"cases\": 6773157, \"deaths\": 88376, \"confirmed_cases\": 5531960.0, \"confirmed_deaths\": 31434.0, \"probable_cases\": 1241197.0, \"probable_deaths\": 56942.0}, {\"date\": \"2022-05-09\", \"state\": \"Utah\", \"fips\": 49, \"cases\": 935708, \"deaths\": 4760, \"confirmed_cases\": 0.0, \"confirmed_deaths\": 4531.0, \"probable_cases\": 935708.0, \"probable_deaths\": 229.0}, {\"date\": \"2022-05-09\", \"state\": \"Vermont\", \"fips\": 50, \"cases\": 126099, \"deaths\": 642, \"confirmed_cases\": 0.0, \"confirmed_deaths\": null, \"probable_cases\": 126099.0, \"probable_deaths\": null}, {\"date\": \"2022-05-09\", \"state\": \"Virginia\", \"fips\": 51, \"cases\": 1715478, \"deaths\": 20280, \"confirmed_cases\": null, \"confirmed_deaths\": null, \"probable_cases\": null, \"probable_deaths\": null}, {\"date\": \"2022-05-09\", \"state\": \"Virgin Islands\", \"fips\": 78, \"cases\": 17167, \"deaths\": 113, \"confirmed_cases\": 17167.0, \"confirmed_deaths\": 113.0, \"probable_cases\": 0.0, \"probable_deaths\": 0.0}, {\"date\": \"2022-05-09\", \"state\": \"Washington\", \"fips\": 53, \"cases\": 1514314, \"deaths\": 12771, \"confirmed_cases\": 1288539.0, \"confirmed_deaths\": 3310.0, \"probable_cases\": 225775.0, \"probable_deaths\": 9461.0}, {\"date\": \"2022-05-09\", \"state\": \"West Virginia\", \"fips\": 54, \"cases\": 502930, \"deaths\": 6880, \"confirmed_cases\": 398382.0, \"confirmed_deaths\": null, \"probable_cases\": 104548.0, \"probable_deaths\": null}, {\"date\": \"2022-05-09\", \"state\": \"Wisconsin\", \"fips\": 55, \"cases\": 1623093, \"deaths\": 14464, \"confirmed_cases\": 1426776.0, \"confirmed_deaths\": 12919.0, \"probable_cases\": 196317.0, \"probable_deaths\": 1545.0}, {\"date\": \"2022-05-09\", \"state\": \"Wyoming\", \"fips\": 56, \"cases\": 156745, \"deaths\": 1814, \"confirmed_cases\": 123664.0, \"confirmed_deaths\": null, \"probable_cases\": 33081.0, \"probable_deaths\": null}]}}, {\"mode\": \"vega-lite\"});\n",
       "</script>"
      ],
      "text/plain": [
       "alt.Chart(...)"
      ]
     },
     "execution_count": 1,
     "metadata": {},
     "output_type": "execute_result"
    }
   ],
   "source": [
    "alt.Chart(df).mark_bar(\n",
    "    color=\"#56bf84\"\n",
    ").encode(\n",
    "    alt.Y(\"state:N\", sort='-x', title=None),\n",
    "    alt.X(\"confirmed_cases:Q\", title=\"Confirmed Cases\")\n",
    ").properties(\n",
    "    title=\"Number of Confirmed Cases by State\", width=500\n",
    ").configure(\n",
    "    background=\"#754861\", font=\"Asap\", \n",
    ").configure_title(fontSize=16, font=\"Asap\", color=\"white\").configure_axis(\n",
    "    labelColor=\"white\", titleColor=\"white\"\n",
    ")"
   ]
  },
  {
   "cell_type": "code",
   "execution_count": 6,
   "metadata": {
    "execution": {
     "iopub.execute_input": "2022-05-09T15:35:01.591562Z",
     "iopub.status.busy": "2022-05-09T15:35:01.591036Z",
     "iopub.status.idle": "2022-05-09T15:35:01.594199Z",
     "shell.execute_reply": "2022-05-09T15:35:01.594533Z"
    }
   },
   "outputs": [],
   "source": [
    "from vega_datasets import data"
   ]
  },
  {
   "cell_type": "code",
   "execution_count": 7,
   "metadata": {
    "execution": {
     "iopub.execute_input": "2022-05-09T15:35:01.597434Z",
     "iopub.status.busy": "2022-05-09T15:35:01.596963Z",
     "iopub.status.idle": "2022-05-09T15:35:01.598698Z",
     "shell.execute_reply": "2022-05-09T15:35:01.599030Z"
    }
   },
   "outputs": [],
   "source": [
    "usa = data.us_10m.url"
   ]
  },
  {
   "cell_type": "code",
   "execution_count": 8,
   "metadata": {
    "execution": {
     "iopub.execute_input": "2022-05-09T15:35:01.608168Z",
     "iopub.status.busy": "2022-05-09T15:35:01.607542Z",
     "iopub.status.idle": "2022-05-09T15:35:01.666219Z",
     "shell.execute_reply": "2022-05-09T15:35:01.666773Z"
    }
   },
   "outputs": [],
   "source": [
    "state_caps = pd.read_csv(\"https://raw.githubusercontent.com/jasperdebie/VisInfo/master/us-state-capitals.csv\")\n",
    "df2 = df.merge(state_caps, left_on=\"state\", right_on=\"name\", )"
   ]
  },
  {
   "cell_type": "code",
   "execution_count": 9,
   "metadata": {
    "execution": {
     "iopub.execute_input": "2022-05-09T15:35:01.708646Z",
     "iopub.status.busy": "2022-05-09T15:35:01.708026Z",
     "iopub.status.idle": "2022-05-09T15:35:01.710534Z",
     "shell.execute_reply": "2022-05-09T15:35:01.710882Z"
    }
   },
   "outputs": [
    {
     "data": {
      "text/html": [
       "\n",
       "<div id=\"altair-viz-8c41b25051ef4c88b0ac90e3adc7b394\"></div>\n",
       "<script type=\"text/javascript\">\n",
       "  (function(spec, embedOpt){\n",
       "    let outputDiv = document.currentScript.previousElementSibling;\n",
       "    if (outputDiv.id !== \"altair-viz-8c41b25051ef4c88b0ac90e3adc7b394\") {\n",
       "      outputDiv = document.getElementById(\"altair-viz-8c41b25051ef4c88b0ac90e3adc7b394\");\n",
       "    }\n",
       "    const paths = {\n",
       "      \"vega\": \"https://cdn.jsdelivr.net/npm//vega@5?noext\",\n",
       "      \"vega-lib\": \"https://cdn.jsdelivr.net/npm//vega-lib?noext\",\n",
       "      \"vega-lite\": \"https://cdn.jsdelivr.net/npm//vega-lite@4.8.1?noext\",\n",
       "      \"vega-embed\": \"https://cdn.jsdelivr.net/npm//vega-embed@6?noext\",\n",
       "    };\n",
       "\n",
       "    function loadScript(lib) {\n",
       "      return new Promise(function(resolve, reject) {\n",
       "        var s = document.createElement('script');\n",
       "        s.src = paths[lib];\n",
       "        s.async = true;\n",
       "        s.onload = () => resolve(paths[lib]);\n",
       "        s.onerror = () => reject(`Error loading script: ${paths[lib]}`);\n",
       "        document.getElementsByTagName(\"head\")[0].appendChild(s);\n",
       "      });\n",
       "    }\n",
       "\n",
       "    function showError(err) {\n",
       "      outputDiv.innerHTML = `<div class=\"error\" style=\"color:red;\">${err}</div>`;\n",
       "      throw err;\n",
       "    }\n",
       "\n",
       "    function displayChart(vegaEmbed) {\n",
       "      vegaEmbed(outputDiv, spec, embedOpt)\n",
       "        .catch(err => showError(`Javascript Error: ${err.message}<br>This usually means there's a typo in your chart specification. See the javascript console for the full traceback.`));\n",
       "    }\n",
       "\n",
       "    if(typeof define === \"function\" && define.amd) {\n",
       "      requirejs.config({paths});\n",
       "      require([\"vega-embed\"], displayChart, err => showError(`Error loading script: ${err.message}`));\n",
       "    } else if (typeof vegaEmbed === \"function\") {\n",
       "      displayChart(vegaEmbed);\n",
       "    } else {\n",
       "      loadScript(\"vega\")\n",
       "        .then(() => loadScript(\"vega-lite\"))\n",
       "        .then(() => loadScript(\"vega-embed\"))\n",
       "        .catch(showError)\n",
       "        .then(() => displayChart(vegaEmbed));\n",
       "    }\n",
       "  })({\"config\": {\"view\": {\"continuousWidth\": 400, \"continuousHeight\": 300}, \"font\": \"Asap\"}, \"layer\": [{\"data\": {\"url\": \"https://cdn.jsdelivr.net/npm/vega-datasets@v1.29.0/data/us-10m.json\", \"format\": {\"feature\": \"states\", \"type\": \"topojson\"}}, \"mark\": {\"type\": \"geoshape\", \"fill\": \"black\", \"stroke\": \"#fff\", \"strokeWidth\": 1}}, {\"data\": {\"name\": \"data-b37a19c0fb5e352a21a4ca5c72fdf16f\"}, \"mark\": {\"type\": \"circle\", \"color\": \"red\"}, \"encoding\": {\"latitude\": {\"field\": \"latitude\", \"type\": \"quantitative\"}, \"longitude\": {\"field\": \"longitude\", \"type\": \"quantitative\"}, \"size\": {\"type\": \"quantitative\", \"field\": \"confirmed_cases\"}, \"tooltip\": [{\"type\": \"nominal\", \"field\": \"state\"}, {\"type\": \"quantitative\", \"field\": \"confirmed_cases\"}]}}], \"height\": 400, \"projection\": {\"type\": \"albersUsa\"}, \"width\": 550, \"$schema\": \"https://vega.github.io/schema/vega-lite/v4.8.1.json\", \"datasets\": {\"data-b37a19c0fb5e352a21a4ca5c72fdf16f\": [{\"date\": \"2022-05-09\", \"state\": \"Alabama\", \"fips\": 1, \"cases\": 1302397, \"deaths\": 19601, \"confirmed_cases\": 936849.0, \"confirmed_deaths\": 15054.0, \"probable_cases\": 365548.0, \"probable_deaths\": 4547.0, \"name\": \"Alabama\", \"description\": \"Montgomery\", \"latitude\": 32.377716, \"longitude\": -86.300568}, {\"date\": \"2022-05-09\", \"state\": \"Alaska\", \"fips\": 2, \"cases\": 252847, \"deaths\": 1213, \"confirmed_cases\": 0.0, \"confirmed_deaths\": 1213.0, \"probable_cases\": 252847.0, \"probable_deaths\": 0.0, \"name\": \"Alaska\", \"description\": \"Juneau\", \"latitude\": 58.301598, \"longitude\": -134.420212}, {\"date\": \"2022-05-09\", \"state\": \"Arizona\", \"fips\": 4, \"cases\": 2025435, \"deaths\": 30189, \"confirmed_cases\": null, \"confirmed_deaths\": null, \"probable_cases\": null, \"probable_deaths\": null, \"name\": \"Arizona\", \"description\": \"Phoenix\", \"latitude\": 33.448143, \"longitude\": -112.096962}, {\"date\": \"2022-05-09\", \"state\": \"Arkansas\", \"fips\": 5, \"cases\": 837154, \"deaths\": 11408, \"confirmed_cases\": 0.0, \"confirmed_deaths\": null, \"probable_cases\": 837154.0, \"probable_deaths\": null, \"name\": \"Arkansas\", \"description\": \"Little Rock\", \"latitude\": 34.746613, \"longitude\": -92.288986}, {\"date\": \"2022-05-09\", \"state\": \"California\", \"fips\": 6, \"cases\": 9290555, \"deaths\": 90706, \"confirmed_cases\": 8879458.0, \"confirmed_deaths\": 90445.0, \"probable_cases\": 411097.0, \"probable_deaths\": 261.0, \"name\": \"California\", \"description\": \"Sacramento\", \"latitude\": 38.576668, \"longitude\": -121.493629}, {\"date\": \"2022-05-09\", \"state\": \"Colorado\", \"fips\": 8, \"cases\": 1396996, \"deaths\": 12694, \"confirmed_cases\": null, \"confirmed_deaths\": null, \"probable_cases\": null, \"probable_deaths\": null, \"name\": \"Colorado\", \"description\": \"Denver\", \"latitude\": 39.739227, \"longitude\": -104.984856}, {\"date\": \"2022-05-09\", \"state\": \"Connecticut\", \"fips\": 9, \"cases\": 766172, \"deaths\": 10874, \"confirmed_cases\": null, \"confirmed_deaths\": null, \"probable_cases\": null, \"probable_deaths\": null, \"name\": \"Connecticut\", \"description\": \"Hartford<br>\", \"latitude\": 41.764046, \"longitude\": -72.682198}, {\"date\": \"2022-05-09\", \"state\": \"Delaware\", \"fips\": 10, \"cases\": 264376, \"deaths\": 2928, \"confirmed_cases\": null, \"confirmed_deaths\": null, \"probable_cases\": null, \"probable_deaths\": null, \"name\": \"Delaware\", \"description\": \"Dover\", \"latitude\": 39.157307, \"longitude\": -75.519722}, {\"date\": \"2022-05-09\", \"state\": \"Florida\", \"fips\": 12, \"cases\": 5964125, \"deaths\": 74085, \"confirmed_cases\": 0.0, \"confirmed_deaths\": null, \"probable_cases\": 5964125.0, \"probable_deaths\": null, \"name\": \"Florida\", \"description\": \"Tallahassee\", \"latitude\": 30.438118, \"longitude\": -84.281296}, {\"date\": \"2022-05-09\", \"state\": \"Georgia\", \"fips\": 13, \"cases\": 2452012, \"deaths\": 36498, \"confirmed_cases\": 1891430.0, \"confirmed_deaths\": 30653.0, \"probable_cases\": 560582.0, \"probable_deaths\": 5845.0, \"name\": \"Georgia\", \"description\": \"Atlanta<br>\", \"latitude\": 33.749027, \"longitude\": -84.388229}, {\"date\": \"2022-05-09\", \"state\": \"Hawaii\", \"fips\": 15, \"cases\": 246110, \"deaths\": 1425, \"confirmed_cases\": null, \"confirmed_deaths\": null, \"probable_cases\": null, \"probable_deaths\": null, \"name\": \"Hawaii\", \"description\": \"Honolulu\", \"latitude\": 21.307442, \"longitude\": -157.857376}, {\"date\": \"2022-05-09\", \"state\": \"Idaho\", \"fips\": 16, \"cases\": 446956, \"deaths\": 4931, \"confirmed_cases\": 350103.0, \"confirmed_deaths\": 4015.0, \"probable_cases\": 96853.0, \"probable_deaths\": 916.0, \"name\": \"Idaho\", \"description\": \"Boise\", \"latitude\": 43.617775, \"longitude\": -116.199722}, {\"date\": \"2022-05-09\", \"state\": \"Illinois\", \"fips\": 17, \"cases\": 3174977, \"deaths\": 37956, \"confirmed_cases\": 2684198.0, \"confirmed_deaths\": 33696.0, \"probable_cases\": 490779.0, \"probable_deaths\": 4260.0, \"name\": \"Illinois\", \"description\": \"Springfield\", \"latitude\": 39.798363, \"longitude\": -89.654961}, {\"date\": \"2022-05-09\", \"state\": \"Indiana\", \"fips\": 18, \"cases\": 1707085, \"deaths\": 23614, \"confirmed_cases\": 1705394.0, \"confirmed_deaths\": 22650.0, \"probable_cases\": 1691.0, \"probable_deaths\": 964.0, \"name\": \"Indiana\", \"description\": \"Indianapolis\", \"latitude\": 39.768623, \"longitude\": -86.162643}, {\"date\": \"2022-05-09\", \"state\": \"Iowa\", \"fips\": 19, \"cases\": 766593, \"deaths\": 9533, \"confirmed_cases\": 591247.0, \"confirmed_deaths\": null, \"probable_cases\": 175346.0, \"probable_deaths\": null, \"name\": \"Iowa\", \"description\": \"Des Moines\", \"latitude\": 41.591087, \"longitude\": -93.603729}, {\"date\": \"2022-05-09\", \"state\": \"Kansas\", \"fips\": 20, \"cases\": 778898, \"deaths\": 8691, \"confirmed_cases\": null, \"confirmed_deaths\": null, \"probable_cases\": null, \"probable_deaths\": null, \"name\": \"Kansas\", \"description\": \"Topeka\", \"latitude\": 39.048191, \"longitude\": -95.677956}, {\"date\": \"2022-05-09\", \"state\": \"Kentucky\", \"fips\": 21, \"cases\": 1340691, \"deaths\": 15572, \"confirmed_cases\": null, \"confirmed_deaths\": null, \"probable_cases\": null, \"probable_deaths\": null, \"name\": \"Kentucky\", \"description\": \"Frankfort\", \"latitude\": 38.186722, \"longitude\": -84.875374}, {\"date\": \"2022-05-09\", \"state\": \"Louisiana\", \"fips\": 22, \"cases\": 1240538, \"deaths\": 17276, \"confirmed_cases\": 893408.0, \"confirmed_deaths\": 14695.0, \"probable_cases\": 347130.0, \"probable_deaths\": 2581.0, \"name\": \"Louisiana\", \"description\": \"Baton Rouge\", \"latitude\": 30.457069, \"longitude\": -91.187393}, {\"date\": \"2022-05-09\", \"state\": \"Maine\", \"fips\": 23, \"cases\": 250689, \"deaths\": 2325, \"confirmed_cases\": 181359.0, \"confirmed_deaths\": 2325.0, \"probable_cases\": 69330.0, \"probable_deaths\": 0.0, \"name\": \"Maine\", \"description\": \"Augusta\", \"latitude\": 44.307167, \"longitude\": -69.781693}, {\"date\": \"2022-05-09\", \"state\": \"Maryland\", \"fips\": 24, \"cases\": 1040041, \"deaths\": 14486, \"confirmed_cases\": 1039776.0, \"confirmed_deaths\": 14221.0, \"probable_cases\": 265.0, \"probable_deaths\": 265.0, \"name\": \"Maryland\", \"description\": \"Annapolis\", \"latitude\": 38.978764, \"longitude\": -76.490936}, {\"date\": \"2022-05-09\", \"state\": \"Massachusetts\", \"fips\": 25, \"cases\": 1779829, \"deaths\": 20334, \"confirmed_cases\": 1638144.0, \"confirmed_deaths\": 19198.0, \"probable_cases\": 141685.0, \"probable_deaths\": 1136.0, \"name\": \"Massachusetts\", \"description\": \"Boston\", \"latitude\": 42.358162, \"longitude\": -71.063698}, {\"date\": \"2022-05-09\", \"state\": \"Michigan\", \"fips\": 26, \"cases\": 2444891, \"deaths\": 36064, \"confirmed_cases\": 2122010.0, \"confirmed_deaths\": 33162.0, \"probable_cases\": 322881.0, \"probable_deaths\": 2902.0, \"name\": \"Michigan\", \"description\": \"Lansing\", \"latitude\": 42.733635, \"longitude\": -84.555328}, {\"date\": \"2022-05-09\", \"state\": \"Minnesota\", \"fips\": 27, \"cases\": 1464235, \"deaths\": 12805, \"confirmed_cases\": 1260763.0, \"confirmed_deaths\": null, \"probable_cases\": 203472.0, \"probable_deaths\": null, \"name\": \"Minnesota\", \"description\": \"St. Paul\", \"latitude\": 44.955097, \"longitude\": -93.102211}, {\"date\": \"2022-05-09\", \"state\": \"Mississippi\", \"fips\": 28, \"cases\": 798721, \"deaths\": 12454, \"confirmed_cases\": 438792.0, \"confirmed_deaths\": 8203.0, \"probable_cases\": 359929.0, \"probable_deaths\": 4251.0, \"name\": \"Mississippi\", \"description\": \"Jackson\", \"latitude\": 32.303848, \"longitude\": -90.182106}, {\"date\": \"2022-05-09\", \"state\": \"Missouri\", \"fips\": 29, \"cases\": 1447441, \"deaths\": 20555, \"confirmed_cases\": 502584.0, \"confirmed_deaths\": 6427.0, \"probable_cases\": 944857.0, \"probable_deaths\": 14128.0, \"name\": \"Missouri\", \"description\": \"Jefferson City\", \"latitude\": 38.579201, \"longitude\": -92.172935}, {\"date\": \"2022-05-09\", \"state\": \"Montana\", \"fips\": 30, \"cases\": 274835, \"deaths\": 3378, \"confirmed_cases\": 274835.0, \"confirmed_deaths\": 3378.0, \"probable_cases\": 0.0, \"probable_deaths\": 0.0, \"name\": \"Montana\", \"description\": \"Helena\", \"latitude\": 46.585709, \"longitude\": -112.018417}, {\"date\": \"2022-05-09\", \"state\": \"Nebraska\", \"fips\": 31, \"cases\": 480805, \"deaths\": 4216, \"confirmed_cases\": 126154.0, \"confirmed_deaths\": 839.0, \"probable_cases\": 354651.0, \"probable_deaths\": 3377.0, \"name\": \"Nebraska\", \"description\": \"Lincoln\", \"latitude\": 40.808075, \"longitude\": -96.699654}, {\"date\": \"2022-05-09\", \"state\": \"Nevada\", \"fips\": 32, \"cases\": 722133, \"deaths\": 10787, \"confirmed_cases\": 660688.0, \"confirmed_deaths\": 10780.0, \"probable_cases\": 61445.0, \"probable_deaths\": 7.0, \"name\": \"Nevada\", \"description\": \"Carson City\", \"latitude\": 39.163914, \"longitude\": -119.766121}, {\"date\": \"2022-05-09\", \"state\": \"New Hampshire\", \"fips\": 33, \"cases\": 313288, \"deaths\": 2487, \"confirmed_cases\": 0.0, \"confirmed_deaths\": null, \"probable_cases\": 313288.0, \"probable_deaths\": null, \"name\": \"New Hampshire\", \"description\": \"Concord\", \"latitude\": 43.206898, \"longitude\": -71.537994}, {\"date\": \"2022-05-09\", \"state\": \"New Jersey\", \"fips\": 34, \"cases\": 2288950, \"deaths\": 33489, \"confirmed_cases\": 1970847.0, \"confirmed_deaths\": 30443.0, \"probable_cases\": 318103.0, \"probable_deaths\": 3046.0, \"name\": \"New Jersey\", \"description\": \"Trenton\", \"latitude\": 40.220596, \"longitude\": -74.769913}, {\"date\": \"2022-05-09\", \"state\": \"New Mexico\", \"fips\": 35, \"cases\": 523940, \"deaths\": 7558, \"confirmed_cases\": 523940.0, \"confirmed_deaths\": 7558.0, \"probable_cases\": 0.0, \"probable_deaths\": 0.0, \"name\": \"New Mexico\", \"description\": \"Santa Fe\", \"latitude\": 35.68224, \"longitude\": -105.939728}, {\"date\": \"2022-05-09\", \"state\": \"New York\", \"fips\": 36, \"cases\": 5215540, \"deaths\": 67816, \"confirmed_cases\": 5215540.0, \"confirmed_deaths\": 62303.0, \"probable_cases\": 0.0, \"probable_deaths\": 5513.0, \"name\": \"New York\", \"description\": \"Albany\", \"latitude\": 42.652843, \"longitude\": -73.757874}, {\"date\": \"2022-05-09\", \"state\": \"North Carolina\", \"fips\": 37, \"cases\": 2675505, \"deaths\": 24587, \"confirmed_cases\": 75933.0, \"confirmed_deaths\": 330.0, \"probable_cases\": 2599572.0, \"probable_deaths\": 24257.0, \"name\": \"North Carolina\", \"description\": \"Raleigh\", \"latitude\": 35.78043, \"longitude\": -78.639099}, {\"date\": \"2022-05-09\", \"state\": \"North Dakota\", \"fips\": 38, \"cases\": 241739, \"deaths\": 2315, \"confirmed_cases\": 179793.0, \"confirmed_deaths\": null, \"probable_cases\": 61946.0, \"probable_deaths\": null, \"name\": \"North Dakota\", \"description\": \"Bismarck\", \"latitude\": 46.82085, \"longitude\": -100.783318}, {\"date\": \"2022-05-09\", \"state\": \"Ohio\", \"fips\": 39, \"cases\": 2708071, \"deaths\": 38495, \"confirmed_cases\": null, \"confirmed_deaths\": null, \"probable_cases\": null, \"probable_deaths\": null, \"name\": \"Ohio\", \"description\": \"Columbus\", \"latitude\": 39.961346, \"longitude\": -82.999069}, {\"date\": \"2022-05-09\", \"state\": \"Oklahoma\", \"fips\": 40, \"cases\": 1042637, \"deaths\": 14346, \"confirmed_cases\": 0.0, \"confirmed_deaths\": null, \"probable_cases\": 1042637.0, \"probable_deaths\": null, \"name\": \"Oklahoma\", \"description\": \"Oklahoma City\", \"latitude\": 35.492207, \"longitude\": -97.503342}, {\"date\": \"2022-05-09\", \"state\": \"Oregon\", \"fips\": 41, \"cases\": 729413, \"deaths\": 7528, \"confirmed_cases\": 0.0, \"confirmed_deaths\": null, \"probable_cases\": 729413.0, \"probable_deaths\": null, \"name\": \"Oregon\", \"description\": \"Salem\", \"latitude\": 44.938461, \"longitude\": -123.030403}, {\"date\": \"2022-05-09\", \"state\": \"Pennsylvania\", \"fips\": 42, \"cases\": 2829027, \"deaths\": 44733, \"confirmed_cases\": null, \"confirmed_deaths\": null, \"probable_cases\": null, \"probable_deaths\": null, \"name\": \"Pennsylvania\", \"description\": \"Harrisburg\", \"latitude\": 40.264378, \"longitude\": -76.883598}, {\"date\": \"2022-05-09\", \"state\": \"Rhode Island\", \"fips\": 44, \"cases\": 375897, \"deaths\": 3544, \"confirmed_cases\": 0.0, \"confirmed_deaths\": null, \"probable_cases\": 375897.0, \"probable_deaths\": null, \"name\": \"Rhode Island\", \"description\": \"Providence\", \"latitude\": 41.830914, \"longitude\": -71.414963}, {\"date\": \"2022-05-09\", \"state\": \"South Carolina\", \"fips\": 45, \"cases\": 1477345, \"deaths\": 17847, \"confirmed_cases\": 1160735.0, \"confirmed_deaths\": 15209.0, \"probable_cases\": 316610.0, \"probable_deaths\": 2638.0, \"name\": \"South Carolina\", \"description\": \"Columbia\", \"latitude\": 34.000343, \"longitude\": -81.033211}, {\"date\": \"2022-05-09\", \"state\": \"South Dakota\", \"fips\": 46, \"cases\": 238185, \"deaths\": 2915, \"confirmed_cases\": 0.0, \"confirmed_deaths\": null, \"probable_cases\": 238185.0, \"probable_deaths\": null, \"name\": \"South Dakota\", \"description\": \"Pierre\", \"latitude\": 44.367031, \"longitude\": -100.346405}, {\"date\": \"2022-05-09\", \"state\": \"Tennessee\", \"fips\": 47, \"cases\": 1986036, \"deaths\": 25936, \"confirmed_cases\": 1486009.0, \"confirmed_deaths\": 4035.0, \"probable_cases\": 500027.0, \"probable_deaths\": 21901.0, \"name\": \"Tennessee\", \"description\": \"Nashville\", \"latitude\": 36.16581, \"longitude\": -86.784241}, {\"date\": \"2022-05-09\", \"state\": \"Texas\", \"fips\": 48, \"cases\": 6773157, \"deaths\": 88376, \"confirmed_cases\": 5531960.0, \"confirmed_deaths\": 31434.0, \"probable_cases\": 1241197.0, \"probable_deaths\": 56942.0, \"name\": \"Texas\", \"description\": \"Austin\", \"latitude\": 30.27467, \"longitude\": -97.740349}, {\"date\": \"2022-05-09\", \"state\": \"Utah\", \"fips\": 49, \"cases\": 935708, \"deaths\": 4760, \"confirmed_cases\": 0.0, \"confirmed_deaths\": 4531.0, \"probable_cases\": 935708.0, \"probable_deaths\": 229.0, \"name\": \"Utah\", \"description\": \"Salt Lake City\", \"latitude\": 40.777477, \"longitude\": -111.888237}, {\"date\": \"2022-05-09\", \"state\": \"Vermont\", \"fips\": 50, \"cases\": 126099, \"deaths\": 642, \"confirmed_cases\": 0.0, \"confirmed_deaths\": null, \"probable_cases\": 126099.0, \"probable_deaths\": null, \"name\": \"Vermont\", \"description\": \"Montpelier\", \"latitude\": 44.262436, \"longitude\": -72.580536}, {\"date\": \"2022-05-09\", \"state\": \"Virginia\", \"fips\": 51, \"cases\": 1715478, \"deaths\": 20280, \"confirmed_cases\": null, \"confirmed_deaths\": null, \"probable_cases\": null, \"probable_deaths\": null, \"name\": \"Virginia\", \"description\": \"Richmond\", \"latitude\": 37.538857, \"longitude\": -77.43364}, {\"date\": \"2022-05-09\", \"state\": \"Washington\", \"fips\": 53, \"cases\": 1514314, \"deaths\": 12771, \"confirmed_cases\": 1288539.0, \"confirmed_deaths\": 3310.0, \"probable_cases\": 225775.0, \"probable_deaths\": 9461.0, \"name\": \"Washington\", \"description\": \"Olympia\", \"latitude\": 47.035805, \"longitude\": -122.905014}, {\"date\": \"2022-05-09\", \"state\": \"West Virginia\", \"fips\": 54, \"cases\": 502930, \"deaths\": 6880, \"confirmed_cases\": 398382.0, \"confirmed_deaths\": null, \"probable_cases\": 104548.0, \"probable_deaths\": null, \"name\": \"West Virginia\", \"description\": \"Charleston\", \"latitude\": 38.336246, \"longitude\": -81.612328}, {\"date\": \"2022-05-09\", \"state\": \"Wisconsin\", \"fips\": 55, \"cases\": 1623093, \"deaths\": 14464, \"confirmed_cases\": 1426776.0, \"confirmed_deaths\": 12919.0, \"probable_cases\": 196317.0, \"probable_deaths\": 1545.0, \"name\": \"Wisconsin\", \"description\": \"Madison\", \"latitude\": 43.074684, \"longitude\": -89.384445}, {\"date\": \"2022-05-09\", \"state\": \"Wyoming\", \"fips\": 56, \"cases\": 156745, \"deaths\": 1814, \"confirmed_cases\": 123664.0, \"confirmed_deaths\": null, \"probable_cases\": 33081.0, \"probable_deaths\": null, \"name\": \"Wyoming\", \"description\": \"Cheyenne\", \"latitude\": 41.140259, \"longitude\": -104.820236}]}}, {\"mode\": \"vega-lite\"});\n",
       "</script>"
      ],
      "text/plain": [
       "alt.LayerChart(...)"
      ]
     },
     "execution_count": 1,
     "metadata": {},
     "output_type": "execute_result"
    }
   ],
   "source": [
    "alt.layer(\n",
    "    alt.Chart(alt.topo_feature(usa, 'states')).mark_geoshape(\n",
    "        fill=\"black\", stroke=\"#fff\", strokeWidth=1\n",
    "    ),\n",
    "    alt.Chart(df2).mark_circle(color=\"red\").encode(\n",
    "        latitude=\"latitude:Q\",\n",
    "        longitude=\"longitude:Q\",\n",
    "        size=\"confirmed_cases\",\n",
    "        tooltip=[\"state\", \"confirmed_cases\"]\n",
    "    )\n",
    ").project(\n",
    "    type=\"albersUsa\"\n",
    ").configure_view(\n",
    "    stroke=None\n",
    ").configure(\n",
    "    font=\"Asap\"\n",
    ").properties(\n",
    "    height=400,\n",
    "    width=550\n",
    ")"
   ]
  },
  {
   "cell_type": "code",
   "execution_count": 10,
   "metadata": {
    "execution": {
     "iopub.execute_input": "2022-05-09T15:35:01.714179Z",
     "iopub.status.busy": "2022-05-09T15:35:01.713653Z",
     "iopub.status.idle": "2022-05-09T15:35:01.715683Z",
     "shell.execute_reply": "2022-05-09T15:35:01.716027Z"
    }
   },
   "outputs": [
    {
     "name": "stdout",
     "output_type": "stream",
     "text": [
      "Help on function join in module pandas.core.frame:\n",
      "\n",
      "join(self, other: 'FrameOrSeriesUnion', on: 'IndexLabel | None' = None, how: 'str' = 'left', lsuffix: 'str' = '', rsuffix: 'str' = '', sort: 'bool' = False) -> 'DataFrame'\n",
      "    Join columns of another DataFrame.\n",
      "    \n",
      "    Join columns with `other` DataFrame either on index or on a key\n",
      "    column. Efficiently join multiple DataFrame objects by index at once by\n",
      "    passing a list.\n",
      "    \n",
      "    Parameters\n",
      "    ----------\n",
      "    other : DataFrame, Series, or list of DataFrame\n",
      "        Index should be similar to one of the columns in this one. If a\n",
      "        Series is passed, its name attribute must be set, and that will be\n",
      "        used as the column name in the resulting joined DataFrame.\n",
      "    on : str, list of str, or array-like, optional\n",
      "        Column or index level name(s) in the caller to join on the index\n",
      "        in `other`, otherwise joins index-on-index. If multiple\n",
      "        values given, the `other` DataFrame must have a MultiIndex. Can\n",
      "        pass an array as the join key if it is not already contained in\n",
      "        the calling DataFrame. Like an Excel VLOOKUP operation.\n",
      "    how : {'left', 'right', 'outer', 'inner'}, default 'left'\n",
      "        How to handle the operation of the two objects.\n",
      "    \n",
      "        * left: use calling frame's index (or column if on is specified)\n",
      "        * right: use `other`'s index.\n",
      "        * outer: form union of calling frame's index (or column if on is\n",
      "          specified) with `other`'s index, and sort it.\n",
      "          lexicographically.\n",
      "        * inner: form intersection of calling frame's index (or column if\n",
      "          on is specified) with `other`'s index, preserving the order\n",
      "          of the calling's one.\n",
      "    lsuffix : str, default ''\n",
      "        Suffix to use from left frame's overlapping columns.\n",
      "    rsuffix : str, default ''\n",
      "        Suffix to use from right frame's overlapping columns.\n",
      "    sort : bool, default False\n",
      "        Order result DataFrame lexicographically by the join key. If False,\n",
      "        the order of the join key depends on the join type (how keyword).\n",
      "    \n",
      "    Returns\n",
      "    -------\n",
      "    DataFrame\n",
      "        A dataframe containing columns from both the caller and `other`.\n",
      "    \n",
      "    See Also\n",
      "    --------\n",
      "    DataFrame.merge : For column(s)-on-column(s) operations.\n",
      "    \n",
      "    Notes\n",
      "    -----\n",
      "    Parameters `on`, `lsuffix`, and `rsuffix` are not supported when\n",
      "    passing a list of `DataFrame` objects.\n",
      "    \n",
      "    Support for specifying index levels as the `on` parameter was added\n",
      "    in version 0.23.0.\n",
      "    \n",
      "    Examples\n",
      "    --------\n",
      "    >>> df = pd.DataFrame({'key': ['K0', 'K1', 'K2', 'K3', 'K4', 'K5'],\n",
      "    ...                    'A': ['A0', 'A1', 'A2', 'A3', 'A4', 'A5']})\n",
      "    \n",
      "    >>> df\n",
      "      key   A\n",
      "    0  K0  A0\n",
      "    1  K1  A1\n",
      "    2  K2  A2\n",
      "    3  K3  A3\n",
      "    4  K4  A4\n",
      "    5  K5  A5\n",
      "    \n",
      "    >>> other = pd.DataFrame({'key': ['K0', 'K1', 'K2'],\n",
      "    ...                       'B': ['B0', 'B1', 'B2']})\n",
      "    \n",
      "    >>> other\n",
      "      key   B\n",
      "    0  K0  B0\n",
      "    1  K1  B1\n",
      "    2  K2  B2\n",
      "    \n",
      "    Join DataFrames using their indexes.\n",
      "    \n",
      "    >>> df.join(other, lsuffix='_caller', rsuffix='_other')\n",
      "      key_caller   A key_other    B\n",
      "    0         K0  A0        K0   B0\n",
      "    1         K1  A1        K1   B1\n",
      "    2         K2  A2        K2   B2\n",
      "    3         K3  A3       NaN  NaN\n",
      "    4         K4  A4       NaN  NaN\n",
      "    5         K5  A5       NaN  NaN\n",
      "    \n",
      "    If we want to join using the key columns, we need to set key to be\n",
      "    the index in both `df` and `other`. The joined DataFrame will have\n",
      "    key as its index.\n",
      "    \n",
      "    >>> df.set_index('key').join(other.set_index('key'))\n",
      "          A    B\n",
      "    key\n",
      "    K0   A0   B0\n",
      "    K1   A1   B1\n",
      "    K2   A2   B2\n",
      "    K3   A3  NaN\n",
      "    K4   A4  NaN\n",
      "    K5   A5  NaN\n",
      "    \n",
      "    Another option to join using the key columns is to use the `on`\n",
      "    parameter. DataFrame.join always uses `other`'s index but we can use\n",
      "    any column in `df`. This method preserves the original DataFrame's\n",
      "    index in the result.\n",
      "    \n",
      "    >>> df.join(other.set_index('key'), on='key')\n",
      "      key   A    B\n",
      "    0  K0  A0   B0\n",
      "    1  K1  A1   B1\n",
      "    2  K2  A2   B2\n",
      "    3  K3  A3  NaN\n",
      "    4  K4  A4  NaN\n",
      "    5  K5  A5  NaN\n",
      "\n"
     ]
    }
   ],
   "source": [
    "help(pd.DataFrame.join)"
   ]
  },
  {
   "cell_type": "code",
   "execution_count": null,
   "metadata": {},
   "outputs": [],
   "source": []
  }
 ],
 "metadata": {
  "interpreter": {
   "hash": "6f37c66ed9fe84b8a5f5c89494f1f03ef20ce33e4117f2431c44ab79e555bbc0"
  },
  "kernelspec": {
   "display_name": "Python 3.7.4 ('base')",
   "language": "python",
   "name": "python3"
  },
  "language_info": {
   "codemirror_mode": {
    "name": "ipython",
    "version": 3
   },
   "file_extension": ".py",
   "mimetype": "text/x-python",
   "name": "python",
   "nbconvert_exporter": "python",
   "pygments_lexer": "ipython3",
   "version": "3.7.4"
  }
 },
 "nbformat": 4,
 "nbformat_minor": 2
}
