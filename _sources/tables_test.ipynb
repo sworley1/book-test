{
 "cells": [
  {
   "cell_type": "markdown",
   "metadata": {},
   "source": [
    "# Interactive Tables in Jupyter Book\n",
    "---\n",
    "A look at the `itables` package \n",
    "\n",
    "[Link](https://mwouts.github.io/itables/advanced_parameters.html)"
   ]
  },
  {
   "cell_type": "code",
   "execution_count": 4,
   "metadata": {
    "tags": [
     "remove-cell"
    ]
   },
   "outputs": [],
   "source": [
    "# HIDDEN\n",
    "from itables import init_notebook_mode\n",
    "#init_notebook_mode(all_interactive=True)"
   ]
  },
  {
   "cell_type": "code",
   "execution_count": 1,
   "metadata": {
    "tags": [
     "hide-input"
    ]
   },
   "outputs": [
    {
     "data": {
      "text/html": [
       "<div>\n",
       "<style scoped>\n",
       "    .dataframe tbody tr th:only-of-type {\n",
       "        vertical-align: middle;\n",
       "    }\n",
       "\n",
       "    .dataframe tbody tr th {\n",
       "        vertical-align: top;\n",
       "    }\n",
       "\n",
       "    .dataframe thead th {\n",
       "        text-align: right;\n",
       "    }\n",
       "</style>\n",
       "<table border=\"1\" class=\"dataframe\">\n",
       "  <thead>\n",
       "    <tr style=\"text-align: right;\">\n",
       "      <th></th>\n",
       "      <th>date</th>\n",
       "      <th>state</th>\n",
       "      <th>fips</th>\n",
       "      <th>cases</th>\n",
       "      <th>deaths</th>\n",
       "      <th>confirmed_cases</th>\n",
       "      <th>confirmed_deaths</th>\n",
       "      <th>probable_cases</th>\n",
       "      <th>probable_deaths</th>\n",
       "    </tr>\n",
       "  </thead>\n",
       "  <tbody>\n",
       "    <tr>\n",
       "      <th>0</th>\n",
       "      <td>2022-05-04</td>\n",
       "      <td>Alabama</td>\n",
       "      <td>1</td>\n",
       "      <td>1301805</td>\n",
       "      <td>19590</td>\n",
       "      <td>936444.0</td>\n",
       "      <td>15047.0</td>\n",
       "      <td>365361.0</td>\n",
       "      <td>4543.0</td>\n",
       "    </tr>\n",
       "    <tr>\n",
       "      <th>1</th>\n",
       "      <td>2022-05-04</td>\n",
       "      <td>Alaska</td>\n",
       "      <td>2</td>\n",
       "      <td>252847</td>\n",
       "      <td>1213</td>\n",
       "      <td>0.0</td>\n",
       "      <td>1213.0</td>\n",
       "      <td>252847.0</td>\n",
       "      <td>0.0</td>\n",
       "    </tr>\n",
       "    <tr>\n",
       "      <th>2</th>\n",
       "      <td>2022-05-04</td>\n",
       "      <td>American Samoa</td>\n",
       "      <td>60</td>\n",
       "      <td>5793</td>\n",
       "      <td>26</td>\n",
       "      <td>5793.0</td>\n",
       "      <td>26.0</td>\n",
       "      <td>0.0</td>\n",
       "      <td>0.0</td>\n",
       "    </tr>\n",
       "    <tr>\n",
       "      <th>3</th>\n",
       "      <td>2022-05-04</td>\n",
       "      <td>Arizona</td>\n",
       "      <td>4</td>\n",
       "      <td>2025435</td>\n",
       "      <td>30189</td>\n",
       "      <td>NaN</td>\n",
       "      <td>NaN</td>\n",
       "      <td>NaN</td>\n",
       "      <td>NaN</td>\n",
       "    </tr>\n",
       "    <tr>\n",
       "      <th>4</th>\n",
       "      <td>2022-05-04</td>\n",
       "      <td>Arkansas</td>\n",
       "      <td>5</td>\n",
       "      <td>836343</td>\n",
       "      <td>11403</td>\n",
       "      <td>0.0</td>\n",
       "      <td>NaN</td>\n",
       "      <td>836343.0</td>\n",
       "      <td>NaN</td>\n",
       "    </tr>\n",
       "  </tbody>\n",
       "</table>\n",
       "</div>"
      ],
      "text/plain": [
       "         date           state  fips    cases  deaths  confirmed_cases  \\\n",
       "0  2022-05-04         Alabama     1  1301805   19590         936444.0   \n",
       "1  2022-05-04          Alaska     2   252847    1213              0.0   \n",
       "2  2022-05-04  American Samoa    60     5793      26           5793.0   \n",
       "3  2022-05-04         Arizona     4  2025435   30189              NaN   \n",
       "4  2022-05-04        Arkansas     5   836343   11403              0.0   \n",
       "\n",
       "   confirmed_deaths  probable_cases  probable_deaths  \n",
       "0           15047.0        365361.0           4543.0  \n",
       "1            1213.0        252847.0              0.0  \n",
       "2              26.0             0.0              0.0  \n",
       "3               NaN             NaN              NaN  \n",
       "4               NaN        836343.0              NaN  "
      ]
     },
     "execution_count": 1,
     "metadata": {},
     "output_type": "execute_result"
    }
   ],
   "source": [
    "# HIDE CODE\n",
    "from itables import show\n",
    "import pandas as pd \n",
    "\n",
    "df = pd.read_csv(\"https://raw.githubusercontent.com/nytimes/covid-19-data/master/live/us-states.csv\")\n",
    "df[:5]"
   ]
  },
  {
   "cell_type": "markdown",
   "metadata": {},
   "source": [
    "using the `show()` function "
   ]
  },
  {
   "cell_type": "code",
   "execution_count": 2,
   "metadata": {},
   "outputs": [
    {
     "data": {
      "text/html": [
       "<table id=\"0aeeeacf-9bee-4bfb-9423-5c30f0e435ab\" class=\"display\"style=\"max-width:100%\"><thead>\n",
       "    <tr style=\"text-align: right;\">\n",
       "      \n",
       "      <th>date</th>\n",
       "      <th>state</th>\n",
       "      <th>fips</th>\n",
       "      <th>cases</th>\n",
       "      <th>deaths</th>\n",
       "      <th>confirmed_cases</th>\n",
       "      <th>confirmed_deaths</th>\n",
       "      <th>probable_cases</th>\n",
       "      <th>probable_deaths</th>\n",
       "    </tr>\n",
       "  </thead><tbody><tr><td>Loading... (need <a href=https://mwouts.github.io/itables/troubleshooting.html>help</a>?)</td></tr></tbody></table>\n",
       "<link rel=\"stylesheet\" type=\"text/css\" href=\"https://cdn.datatables.net/1.11.3/css/jquery.dataTables.min.css\">\n",
       "<style> table td {\n",
       "    text-overflow: ellipsis;\n",
       "    overflow: hidden;\n",
       "} </style>\n",
       "<style> table th {\n",
       "    text-overflow: ellipsis;\n",
       "    overflow: hidden;\n",
       "} </style>\n",
       "<script type=\"module\">\n",
       "    // Define the table data\n",
       "    const data = [[\"2022-05-04\", \"Alabama\", 1, 1301805, 19590, 936444.0, 15047.0, 365361.0, 4543.0], [\"2022-05-04\", \"Alaska\", 2, 252847, 1213, 0.0, 1213.0, 252847.0, 0.0], [\"2022-05-04\", \"American Samoa\", 60, 5793, 26, 5793.0, 26.0, 0.0, 0.0], [\"2022-05-04\", \"Arizona\", 4, 2025435, 30189, NaN, NaN, NaN, NaN], [\"2022-05-04\", \"Arkansas\", 5, 836343, 11403, 0.0, NaN, 836343.0, NaN], [\"2022-05-04\", \"California\", 6, 9265196, 90571, 8856963.0, 90302.0, 408233.0, 269.0], [\"2022-05-04\", \"Colorado\", 8, 1394135, 12671, NaN, NaN, NaN, NaN], [\"2022-05-04\", \"Connecticut\", 9, 763149, 10858, NaN, NaN, NaN, NaN], [\"2022-05-04\", \"Delaware\", 10, 263479, 2919, NaN, NaN, NaN, NaN], [\"2022-05-04\", \"District of Columbia\", 11, 141943, 1340, 134623.0, 1319.0, 7320.0, 21.0], [\"2022-05-04\", \"Florida\", 12, 5946185, 74008, 0.0, NaN, 5946185.0, NaN], [\"2022-05-04\", \"Georgia\", 13, 2452012, 36498, 1891430.0, 30653.0, 560582.0, 5845.0], [\"2022-05-04\", \"Guam\", 66, 49251, 354, 41526.0, 354.0, 7725.0, 0.0], [\"2022-05-04\", \"Hawaii\", 15, 246110, 1425, NaN, NaN, NaN, NaN], [\"2022-05-04\", \"Idaho\", 16, 446339, 4930, 349650.0, 4014.0, 96689.0, 916.0], [\"2022-05-04\", \"Illinois\", 17, 3163121, 37934, 2674042.0, 33680.0, 489079.0, 4254.0], [\"2022-05-04\", \"Indiana\", 18, 1705394, 23591, 1705394.0, 22650.0, 0.0, 941.0], [\"2022-05-04\", \"Iowa\", 19, 765186, 9529, 589635.0, NaN, 175551.0, NaN], [\"2022-05-04\", \"Kansas\", 20, 776919, 8635, NaN, NaN, NaN, NaN], [\"2022-05-04\", \"Kentucky\", 21, 1339678, 15571, NaN, NaN, NaN, NaN], [\"2022-05-04\", \"Louisiana\", 22, 1239469, 17270, 892745.0, 14693.0, 346724.0, 2577.0], [\"2022-05-04\", \"Maine\", 23, 248099, 2296, 179717.0, 2296.0, 68382.0, 0.0], [\"2022-05-04\", \"Maryland\", 24, 1036603, 14480, 1036338.0, 14215.0, 265.0, 265.0], [\"2022-05-04\", \"Massachusetts\", 25, 1770301, 20303, 1629932.0, 19168.0, 140369.0, 1135.0], [\"2022-05-04\", \"Michigan\", 26, 2438988, 36023, 2122010.0, 33161.0, 316978.0, 2862.0], [\"2022-05-04\", \"Minnesota\", 27, 1459625, 12795, 1256866.0, NaN, 202759.0, NaN], [\"2022-05-04\", \"Mississippi\", 28, 798283, 12450, 438516.0, 8201.0, 359767.0, 4249.0], [\"2022-05-04\", \"Missouri\", 29, 1436092, 20226, 1206551.0, 17131.0, 229541.0, 3095.0], [\"2022-05-04\", \"Montana\", 30, 274627, 3375, 274627.0, 3375.0, 0.0, 0.0], [\"2022-05-04\", \"Nebraska\", 31, 480586, 4215, 125959.0, 837.0, 354627.0, 3378.0], [\"2022-05-04\", \"Nevada\", 32, 720739, 10780, 660688.0, 10780.0, 60051.0, 0.0], [\"2022-05-04\", \"New Hampshire\", 33, 312161, 2487, 0.0, NaN, 312161.0, NaN], [\"2022-05-04\", \"New Jersey\", 34, 2273050, 33467, 1957938.0, 30421.0, 315112.0, 3046.0], [\"2022-05-04\", \"New Mexico\", 35, 523268, 7538, 523268.0, 7538.0, 0.0, 0.0], [\"2022-05-04\", \"New York\", 36, 5180822, 67745, 5171922.0, 62233.0, 8900.0, 5512.0], [\"2022-05-04\", \"North Carolina\", 37, 2675130, 24587, 75558.0, 299.0, 2599572.0, 24288.0], [\"2022-05-04\", \"North Dakota\", 38, 241385, 2315, 179793.0, NaN, 61592.0, NaN], [\"2022-05-04\", \"Northern Mariana Islands\", 69, 11263, 34, 11263.0, 34.0, 0.0, 0.0], [\"2022-05-04\", \"Ohio\", 39, 2697058, 38428, NaN, NaN, NaN, NaN], [\"2022-05-04\", \"Oklahoma\", 40, 1041397, 14271, 0.0, NaN, 1041397.0, NaN], [\"2022-05-04\", \"Oregon\", 41, 726612, 7519, 0.0, NaN, 726612.0, NaN], [\"2022-05-04\", \"Pennsylvania\", 42, 2827882, 44733, NaN, NaN, NaN, NaN], [\"2022-05-04\", \"Puerto Rico\", 72, 583847, 4217, 293441.0, 0.0, 290406.0, 4217.0], [\"2022-05-04\", \"Rhode Island\", 44, 374181, 3541, 0.0, NaN, 374181.0, NaN], [\"2022-05-04\", \"South Carolina\", 45, 1477345, 17847, 1160735.0, 15209.0, 316610.0, 2638.0], [\"2022-05-04\", \"South Dakota\", 46, 238185, 2915, 0.0, NaN, 238185.0, NaN], [\"2022-05-04\", \"Tennessee\", 47, 1983580, 25922, 1485437.0, 4031.0, 498143.0, 21891.0], [\"2022-05-04\", \"Texas\", 48, 6761264, 88334, 5523583.0, 31407.0, 1237681.0, 56927.0], [\"2022-05-04\", \"Utah\", 49, 932480, 4747, 0.0, 4520.0, 932480.0, 227.0], [\"2022-05-04\", \"Vermont\", 50, 125347, 639, 0.0, NaN, 125347.0, NaN], [\"2022-05-04\", \"Virginia\", 51, 1710272, 20256, NaN, NaN, NaN, NaN], [\"2022-05-04\", \"Virgin Islands\", 78, 16481, 111, 16481.0, 111.0, 0.0, 0.0], [\"2022-05-04\", \"Washington\", 53, 1510642, 12759, 1287965.0, 3305.0, 222677.0, 9454.0], [\"2022-05-04\", \"West Virginia\", 54, 502192, 6872, 397869.0, NaN, 104323.0, NaN], [\"2022-05-04\", \"Wisconsin\", 55, 1618029, 14442, 1422317.0, 12902.0, 195712.0, 1540.0], [\"2022-05-04\", \"Wyoming\", 56, 156745, 1814, 123664.0, NaN, 33081.0, NaN]];\n",
       "\n",
       "    if (typeof require === 'undefined') {\n",
       "        // TODO: This should become the default (use a simple import)\n",
       "        // when the ESM version works independently of whether\n",
       "        // require.js is there or not, see\n",
       "        // https://datatables.net/forums/discussion/69066/esm-es6-module-support?\n",
       "        const {default: $} = await import(\"https://esm.sh/jquery@3.5.0\");\n",
       "        const {default: initDataTables} = await import(\"https://esm.sh/datatables.net@1.11.3?deps=jquery@3.5.0\");\n",
       "\n",
       "        initDataTables();\n",
       "\n",
       "        // Define the dt_args\n",
       "        let dt_args = {\"scrollY\": \"400px\", \"scrollCollapse\": true, \"paging\": false};\n",
       "        dt_args[\"data\"] = data;\n",
       "\n",
       "        // Display the table\n",
       "        $(document).ready(function () {\n",
       "            $('#0aeeeacf-9bee-4bfb-9423-5c30f0e435ab').DataTable(dt_args);\n",
       "        });\n",
       "    } else {\n",
       "        require([\"jquery\", \"datatables\"], ($, datatables) => {\n",
       "                // Define the dt_args\n",
       "                let dt_args = {\"scrollY\": \"400px\", \"scrollCollapse\": true, \"paging\": false};\n",
       "                dt_args[\"data\"] = data;\n",
       "\n",
       "                // Display the table\n",
       "                $(document).ready(function () {\n",
       "                    $('#0aeeeacf-9bee-4bfb-9423-5c30f0e435ab').DataTable(dt_args);\n",
       "                });\n",
       "            }\n",
       "        )\n",
       "    }\n",
       "</script>\n"
      ],
      "text/plain": [
       "<IPython.core.display.HTML object>"
      ]
     },
     "metadata": {},
     "output_type": "display_data"
    }
   ],
   "source": [
    "show(df, scrollY=\"400px\", scrollCollapse=True, paging=False)"
   ]
  },
  {
   "cell_type": "code",
   "execution_count": 3,
   "metadata": {
    "tags": [
     "remove-cell"
    ]
   },
   "outputs": [
    {
     "data": {
      "text/plain": [
       "DataTransformerRegistry.enable('default')"
      ]
     },
     "execution_count": 3,
     "metadata": {},
     "output_type": "execute_result"
    }
   ],
   "source": [
    "# HIDDEN \n",
    "import altair as alt\n",
    "alt.data_transformers.disable_max_rows()"
   ]
  },
  {
   "cell_type": "code",
   "execution_count": 23,
   "metadata": {},
   "outputs": [
    {
     "data": {
      "text/html": [
       "\n",
       "<div id=\"altair-viz-5acd65e3bffb46499a97ef001beb1042\"></div>\n",
       "<script type=\"text/javascript\">\n",
       "  (function(spec, embedOpt){\n",
       "    let outputDiv = document.currentScript.previousElementSibling;\n",
       "    if (outputDiv.id !== \"altair-viz-5acd65e3bffb46499a97ef001beb1042\") {\n",
       "      outputDiv = document.getElementById(\"altair-viz-5acd65e3bffb46499a97ef001beb1042\");\n",
       "    }\n",
       "    const paths = {\n",
       "      \"vega\": \"https://cdn.jsdelivr.net/npm//vega@5?noext\",\n",
       "      \"vega-lib\": \"https://cdn.jsdelivr.net/npm//vega-lib?noext\",\n",
       "      \"vega-lite\": \"https://cdn.jsdelivr.net/npm//vega-lite@4.8.1?noext\",\n",
       "      \"vega-embed\": \"https://cdn.jsdelivr.net/npm//vega-embed@6?noext\",\n",
       "    };\n",
       "\n",
       "    function loadScript(lib) {\n",
       "      return new Promise(function(resolve, reject) {\n",
       "        var s = document.createElement('script');\n",
       "        s.src = paths[lib];\n",
       "        s.async = true;\n",
       "        s.onload = () => resolve(paths[lib]);\n",
       "        s.onerror = () => reject(`Error loading script: ${paths[lib]}`);\n",
       "        document.getElementsByTagName(\"head\")[0].appendChild(s);\n",
       "      });\n",
       "    }\n",
       "\n",
       "    function showError(err) {\n",
       "      outputDiv.innerHTML = `<div class=\"error\" style=\"color:red;\">${err}</div>`;\n",
       "      throw err;\n",
       "    }\n",
       "\n",
       "    function displayChart(vegaEmbed) {\n",
       "      vegaEmbed(outputDiv, spec, embedOpt)\n",
       "        .catch(err => showError(`Javascript Error: ${err.message}<br>This usually means there's a typo in your chart specification. See the javascript console for the full traceback.`));\n",
       "    }\n",
       "\n",
       "    if(typeof define === \"function\" && define.amd) {\n",
       "      requirejs.config({paths});\n",
       "      require([\"vega-embed\"], displayChart, err => showError(`Error loading script: ${err.message}`));\n",
       "    } else if (typeof vegaEmbed === \"function\") {\n",
       "      displayChart(vegaEmbed);\n",
       "    } else {\n",
       "      loadScript(\"vega\")\n",
       "        .then(() => loadScript(\"vega-lite\"))\n",
       "        .then(() => loadScript(\"vega-embed\"))\n",
       "        .catch(showError)\n",
       "        .then(() => displayChart(vegaEmbed));\n",
       "    }\n",
       "  })({\"config\": {\"view\": {\"continuousWidth\": 400, \"continuousHeight\": 300}, \"axis\": {\"labelColor\": \"white\", \"titleColor\": \"white\"}, \"background\": \"#754861\", \"font\": \"Asap\", \"title\": {\"color\": \"white\", \"font\": \"Asap\", \"fontSize\": 16}}, \"data\": {\"name\": \"data-55eb03f85b6baf4c2a42a974b23d2796\"}, \"mark\": {\"type\": \"bar\", \"color\": \"#56bf84\"}, \"encoding\": {\"x\": {\"type\": \"quantitative\", \"field\": \"confirmed_cases\", \"title\": \"Confirmed Cases\"}, \"y\": {\"type\": \"nominal\", \"field\": \"state\", \"sort\": \"-x\", \"title\": null}}, \"title\": \"Number of Confirmed Cases by State\", \"$schema\": \"https://vega.github.io/schema/vega-lite/v4.8.1.json\", \"datasets\": {\"data-55eb03f85b6baf4c2a42a974b23d2796\": [{\"date\": \"2022-05-04\", \"state\": \"Alabama\", \"fips\": 1, \"cases\": 1301805, \"deaths\": 19590, \"confirmed_cases\": 936444.0, \"confirmed_deaths\": 15047.0, \"probable_cases\": 365361.0, \"probable_deaths\": 4543.0}, {\"date\": \"2022-05-04\", \"state\": \"Alaska\", \"fips\": 2, \"cases\": 252847, \"deaths\": 1213, \"confirmed_cases\": 0.0, \"confirmed_deaths\": 1213.0, \"probable_cases\": 252847.0, \"probable_deaths\": 0.0}, {\"date\": \"2022-05-04\", \"state\": \"American Samoa\", \"fips\": 60, \"cases\": 5793, \"deaths\": 26, \"confirmed_cases\": 5793.0, \"confirmed_deaths\": 26.0, \"probable_cases\": 0.0, \"probable_deaths\": 0.0}, {\"date\": \"2022-05-04\", \"state\": \"Arizona\", \"fips\": 4, \"cases\": 2025435, \"deaths\": 30189, \"confirmed_cases\": null, \"confirmed_deaths\": null, \"probable_cases\": null, \"probable_deaths\": null}, {\"date\": \"2022-05-04\", \"state\": \"Arkansas\", \"fips\": 5, \"cases\": 836343, \"deaths\": 11403, \"confirmed_cases\": 0.0, \"confirmed_deaths\": null, \"probable_cases\": 836343.0, \"probable_deaths\": null}, {\"date\": \"2022-05-04\", \"state\": \"California\", \"fips\": 6, \"cases\": 9265196, \"deaths\": 90571, \"confirmed_cases\": 8856963.0, \"confirmed_deaths\": 90302.0, \"probable_cases\": 408233.0, \"probable_deaths\": 269.0}, {\"date\": \"2022-05-04\", \"state\": \"Colorado\", \"fips\": 8, \"cases\": 1394135, \"deaths\": 12671, \"confirmed_cases\": null, \"confirmed_deaths\": null, \"probable_cases\": null, \"probable_deaths\": null}, {\"date\": \"2022-05-04\", \"state\": \"Connecticut\", \"fips\": 9, \"cases\": 763149, \"deaths\": 10858, \"confirmed_cases\": null, \"confirmed_deaths\": null, \"probable_cases\": null, \"probable_deaths\": null}, {\"date\": \"2022-05-04\", \"state\": \"Delaware\", \"fips\": 10, \"cases\": 263479, \"deaths\": 2919, \"confirmed_cases\": null, \"confirmed_deaths\": null, \"probable_cases\": null, \"probable_deaths\": null}, {\"date\": \"2022-05-04\", \"state\": \"District of Columbia\", \"fips\": 11, \"cases\": 141943, \"deaths\": 1340, \"confirmed_cases\": 134623.0, \"confirmed_deaths\": 1319.0, \"probable_cases\": 7320.0, \"probable_deaths\": 21.0}, {\"date\": \"2022-05-04\", \"state\": \"Florida\", \"fips\": 12, \"cases\": 5946185, \"deaths\": 74008, \"confirmed_cases\": 0.0, \"confirmed_deaths\": null, \"probable_cases\": 5946185.0, \"probable_deaths\": null}, {\"date\": \"2022-05-04\", \"state\": \"Georgia\", \"fips\": 13, \"cases\": 2452012, \"deaths\": 36498, \"confirmed_cases\": 1891430.0, \"confirmed_deaths\": 30653.0, \"probable_cases\": 560582.0, \"probable_deaths\": 5845.0}, {\"date\": \"2022-05-04\", \"state\": \"Guam\", \"fips\": 66, \"cases\": 49251, \"deaths\": 354, \"confirmed_cases\": 41526.0, \"confirmed_deaths\": 354.0, \"probable_cases\": 7725.0, \"probable_deaths\": 0.0}, {\"date\": \"2022-05-04\", \"state\": \"Hawaii\", \"fips\": 15, \"cases\": 246110, \"deaths\": 1425, \"confirmed_cases\": null, \"confirmed_deaths\": null, \"probable_cases\": null, \"probable_deaths\": null}, {\"date\": \"2022-05-04\", \"state\": \"Idaho\", \"fips\": 16, \"cases\": 446339, \"deaths\": 4930, \"confirmed_cases\": 349650.0, \"confirmed_deaths\": 4014.0, \"probable_cases\": 96689.0, \"probable_deaths\": 916.0}, {\"date\": \"2022-05-04\", \"state\": \"Illinois\", \"fips\": 17, \"cases\": 3163121, \"deaths\": 37934, \"confirmed_cases\": 2674042.0, \"confirmed_deaths\": 33680.0, \"probable_cases\": 489079.0, \"probable_deaths\": 4254.0}, {\"date\": \"2022-05-04\", \"state\": \"Indiana\", \"fips\": 18, \"cases\": 1705394, \"deaths\": 23591, \"confirmed_cases\": 1705394.0, \"confirmed_deaths\": 22650.0, \"probable_cases\": 0.0, \"probable_deaths\": 941.0}, {\"date\": \"2022-05-04\", \"state\": \"Iowa\", \"fips\": 19, \"cases\": 765186, \"deaths\": 9529, \"confirmed_cases\": 589635.0, \"confirmed_deaths\": null, \"probable_cases\": 175551.0, \"probable_deaths\": null}, {\"date\": \"2022-05-04\", \"state\": \"Kansas\", \"fips\": 20, \"cases\": 776919, \"deaths\": 8635, \"confirmed_cases\": null, \"confirmed_deaths\": null, \"probable_cases\": null, \"probable_deaths\": null}, {\"date\": \"2022-05-04\", \"state\": \"Kentucky\", \"fips\": 21, \"cases\": 1339678, \"deaths\": 15571, \"confirmed_cases\": null, \"confirmed_deaths\": null, \"probable_cases\": null, \"probable_deaths\": null}, {\"date\": \"2022-05-04\", \"state\": \"Louisiana\", \"fips\": 22, \"cases\": 1239469, \"deaths\": 17270, \"confirmed_cases\": 892745.0, \"confirmed_deaths\": 14693.0, \"probable_cases\": 346724.0, \"probable_deaths\": 2577.0}, {\"date\": \"2022-05-04\", \"state\": \"Maine\", \"fips\": 23, \"cases\": 248099, \"deaths\": 2296, \"confirmed_cases\": 179717.0, \"confirmed_deaths\": 2296.0, \"probable_cases\": 68382.0, \"probable_deaths\": 0.0}, {\"date\": \"2022-05-04\", \"state\": \"Maryland\", \"fips\": 24, \"cases\": 1036603, \"deaths\": 14480, \"confirmed_cases\": 1036338.0, \"confirmed_deaths\": 14215.0, \"probable_cases\": 265.0, \"probable_deaths\": 265.0}, {\"date\": \"2022-05-04\", \"state\": \"Massachusetts\", \"fips\": 25, \"cases\": 1770301, \"deaths\": 20303, \"confirmed_cases\": 1629932.0, \"confirmed_deaths\": 19168.0, \"probable_cases\": 140369.0, \"probable_deaths\": 1135.0}, {\"date\": \"2022-05-04\", \"state\": \"Michigan\", \"fips\": 26, \"cases\": 2438988, \"deaths\": 36023, \"confirmed_cases\": 2122010.0, \"confirmed_deaths\": 33161.0, \"probable_cases\": 316978.0, \"probable_deaths\": 2862.0}, {\"date\": \"2022-05-04\", \"state\": \"Minnesota\", \"fips\": 27, \"cases\": 1459625, \"deaths\": 12795, \"confirmed_cases\": 1256866.0, \"confirmed_deaths\": null, \"probable_cases\": 202759.0, \"probable_deaths\": null}, {\"date\": \"2022-05-04\", \"state\": \"Mississippi\", \"fips\": 28, \"cases\": 798283, \"deaths\": 12450, \"confirmed_cases\": 438516.0, \"confirmed_deaths\": 8201.0, \"probable_cases\": 359767.0, \"probable_deaths\": 4249.0}, {\"date\": \"2022-05-04\", \"state\": \"Missouri\", \"fips\": 29, \"cases\": 1436092, \"deaths\": 20226, \"confirmed_cases\": 1206551.0, \"confirmed_deaths\": 17131.0, \"probable_cases\": 229541.0, \"probable_deaths\": 3095.0}, {\"date\": \"2022-05-04\", \"state\": \"Montana\", \"fips\": 30, \"cases\": 274627, \"deaths\": 3375, \"confirmed_cases\": 274627.0, \"confirmed_deaths\": 3375.0, \"probable_cases\": 0.0, \"probable_deaths\": 0.0}, {\"date\": \"2022-05-04\", \"state\": \"Nebraska\", \"fips\": 31, \"cases\": 480586, \"deaths\": 4215, \"confirmed_cases\": 125959.0, \"confirmed_deaths\": 837.0, \"probable_cases\": 354627.0, \"probable_deaths\": 3378.0}, {\"date\": \"2022-05-04\", \"state\": \"Nevada\", \"fips\": 32, \"cases\": 720739, \"deaths\": 10780, \"confirmed_cases\": 660688.0, \"confirmed_deaths\": 10780.0, \"probable_cases\": 60051.0, \"probable_deaths\": 0.0}, {\"date\": \"2022-05-04\", \"state\": \"New Hampshire\", \"fips\": 33, \"cases\": 312161, \"deaths\": 2487, \"confirmed_cases\": 0.0, \"confirmed_deaths\": null, \"probable_cases\": 312161.0, \"probable_deaths\": null}, {\"date\": \"2022-05-04\", \"state\": \"New Jersey\", \"fips\": 34, \"cases\": 2273050, \"deaths\": 33467, \"confirmed_cases\": 1957938.0, \"confirmed_deaths\": 30421.0, \"probable_cases\": 315112.0, \"probable_deaths\": 3046.0}, {\"date\": \"2022-05-04\", \"state\": \"New Mexico\", \"fips\": 35, \"cases\": 523268, \"deaths\": 7538, \"confirmed_cases\": 523268.0, \"confirmed_deaths\": 7538.0, \"probable_cases\": 0.0, \"probable_deaths\": 0.0}, {\"date\": \"2022-05-04\", \"state\": \"New York\", \"fips\": 36, \"cases\": 5180822, \"deaths\": 67745, \"confirmed_cases\": 5171922.0, \"confirmed_deaths\": 62233.0, \"probable_cases\": 8900.0, \"probable_deaths\": 5512.0}, {\"date\": \"2022-05-04\", \"state\": \"North Carolina\", \"fips\": 37, \"cases\": 2675130, \"deaths\": 24587, \"confirmed_cases\": 75558.0, \"confirmed_deaths\": 299.0, \"probable_cases\": 2599572.0, \"probable_deaths\": 24288.0}, {\"date\": \"2022-05-04\", \"state\": \"North Dakota\", \"fips\": 38, \"cases\": 241385, \"deaths\": 2315, \"confirmed_cases\": 179793.0, \"confirmed_deaths\": null, \"probable_cases\": 61592.0, \"probable_deaths\": null}, {\"date\": \"2022-05-04\", \"state\": \"Northern Mariana Islands\", \"fips\": 69, \"cases\": 11263, \"deaths\": 34, \"confirmed_cases\": 11263.0, \"confirmed_deaths\": 34.0, \"probable_cases\": 0.0, \"probable_deaths\": 0.0}, {\"date\": \"2022-05-04\", \"state\": \"Ohio\", \"fips\": 39, \"cases\": 2697058, \"deaths\": 38428, \"confirmed_cases\": null, \"confirmed_deaths\": null, \"probable_cases\": null, \"probable_deaths\": null}, {\"date\": \"2022-05-04\", \"state\": \"Oklahoma\", \"fips\": 40, \"cases\": 1041397, \"deaths\": 14271, \"confirmed_cases\": 0.0, \"confirmed_deaths\": null, \"probable_cases\": 1041397.0, \"probable_deaths\": null}, {\"date\": \"2022-05-04\", \"state\": \"Oregon\", \"fips\": 41, \"cases\": 726612, \"deaths\": 7519, \"confirmed_cases\": 0.0, \"confirmed_deaths\": null, \"probable_cases\": 726612.0, \"probable_deaths\": null}, {\"date\": \"2022-05-04\", \"state\": \"Pennsylvania\", \"fips\": 42, \"cases\": 2827882, \"deaths\": 44733, \"confirmed_cases\": null, \"confirmed_deaths\": null, \"probable_cases\": null, \"probable_deaths\": null}, {\"date\": \"2022-05-04\", \"state\": \"Puerto Rico\", \"fips\": 72, \"cases\": 583847, \"deaths\": 4217, \"confirmed_cases\": 293441.0, \"confirmed_deaths\": 0.0, \"probable_cases\": 290406.0, \"probable_deaths\": 4217.0}, {\"date\": \"2022-05-04\", \"state\": \"Rhode Island\", \"fips\": 44, \"cases\": 374181, \"deaths\": 3541, \"confirmed_cases\": 0.0, \"confirmed_deaths\": null, \"probable_cases\": 374181.0, \"probable_deaths\": null}, {\"date\": \"2022-05-04\", \"state\": \"South Carolina\", \"fips\": 45, \"cases\": 1477345, \"deaths\": 17847, \"confirmed_cases\": 1160735.0, \"confirmed_deaths\": 15209.0, \"probable_cases\": 316610.0, \"probable_deaths\": 2638.0}, {\"date\": \"2022-05-04\", \"state\": \"South Dakota\", \"fips\": 46, \"cases\": 238185, \"deaths\": 2915, \"confirmed_cases\": 0.0, \"confirmed_deaths\": null, \"probable_cases\": 238185.0, \"probable_deaths\": null}, {\"date\": \"2022-05-04\", \"state\": \"Tennessee\", \"fips\": 47, \"cases\": 1983580, \"deaths\": 25922, \"confirmed_cases\": 1485437.0, \"confirmed_deaths\": 4031.0, \"probable_cases\": 498143.0, \"probable_deaths\": 21891.0}, {\"date\": \"2022-05-04\", \"state\": \"Texas\", \"fips\": 48, \"cases\": 6761264, \"deaths\": 88334, \"confirmed_cases\": 5523583.0, \"confirmed_deaths\": 31407.0, \"probable_cases\": 1237681.0, \"probable_deaths\": 56927.0}, {\"date\": \"2022-05-04\", \"state\": \"Utah\", \"fips\": 49, \"cases\": 932480, \"deaths\": 4747, \"confirmed_cases\": 0.0, \"confirmed_deaths\": 4520.0, \"probable_cases\": 932480.0, \"probable_deaths\": 227.0}, {\"date\": \"2022-05-04\", \"state\": \"Vermont\", \"fips\": 50, \"cases\": 125347, \"deaths\": 639, \"confirmed_cases\": 0.0, \"confirmed_deaths\": null, \"probable_cases\": 125347.0, \"probable_deaths\": null}, {\"date\": \"2022-05-04\", \"state\": \"Virginia\", \"fips\": 51, \"cases\": 1710272, \"deaths\": 20256, \"confirmed_cases\": null, \"confirmed_deaths\": null, \"probable_cases\": null, \"probable_deaths\": null}, {\"date\": \"2022-05-04\", \"state\": \"Virgin Islands\", \"fips\": 78, \"cases\": 16481, \"deaths\": 111, \"confirmed_cases\": 16481.0, \"confirmed_deaths\": 111.0, \"probable_cases\": 0.0, \"probable_deaths\": 0.0}, {\"date\": \"2022-05-04\", \"state\": \"Washington\", \"fips\": 53, \"cases\": 1510642, \"deaths\": 12759, \"confirmed_cases\": 1287965.0, \"confirmed_deaths\": 3305.0, \"probable_cases\": 222677.0, \"probable_deaths\": 9454.0}, {\"date\": \"2022-05-04\", \"state\": \"West Virginia\", \"fips\": 54, \"cases\": 502192, \"deaths\": 6872, \"confirmed_cases\": 397869.0, \"confirmed_deaths\": null, \"probable_cases\": 104323.0, \"probable_deaths\": null}, {\"date\": \"2022-05-04\", \"state\": \"Wisconsin\", \"fips\": 55, \"cases\": 1618029, \"deaths\": 14442, \"confirmed_cases\": 1422317.0, \"confirmed_deaths\": 12902.0, \"probable_cases\": 195712.0, \"probable_deaths\": 1540.0}, {\"date\": \"2022-05-04\", \"state\": \"Wyoming\", \"fips\": 56, \"cases\": 156745, \"deaths\": 1814, \"confirmed_cases\": 123664.0, \"confirmed_deaths\": null, \"probable_cases\": 33081.0, \"probable_deaths\": null}]}}, {\"mode\": \"vega-lite\"});\n",
       "</script>"
      ],
      "text/plain": [
       "alt.Chart(...)"
      ]
     },
     "execution_count": 23,
     "metadata": {},
     "output_type": "execute_result"
    }
   ],
   "source": [
    "alt.Chart(df).mark_bar(\n",
    "    color=\"#56bf84\"\n",
    ").encode(\n",
    "    alt.Y(\"state:N\", sort='-x', title=None),\n",
    "    alt.X(\"confirmed_cases:Q\", title=\"Confirmed Cases\")\n",
    ").properties(\n",
    "    title=\"Number of Confirmed Cases by State\"\n",
    ").configure(\n",
    "    background=\"#754861\", font=\"Asap\", \n",
    ").configure_title(fontSize=16, font=\"Asap\", color=\"white\").configure_axis(\n",
    "    labelColor=\"white\", titleColor=\"white\"\n",
    ")"
   ]
  },
  {
   "cell_type": "code",
   "execution_count": null,
   "metadata": {},
   "outputs": [],
   "source": []
  }
 ],
 "metadata": {
  "interpreter": {
   "hash": "6f37c66ed9fe84b8a5f5c89494f1f03ef20ce33e4117f2431c44ab79e555bbc0"
  },
  "kernelspec": {
   "display_name": "Python 3.7.4 ('base')",
   "language": "python",
   "name": "python3"
  },
  "language_info": {
   "codemirror_mode": {
    "name": "ipython",
    "version": 3
   },
   "file_extension": ".py",
   "mimetype": "text/x-python",
   "name": "python",
   "nbconvert_exporter": "python",
   "pygments_lexer": "ipython3",
   "version": "3.7.4"
  }
 },
 "nbformat": 4,
 "nbformat_minor": 2
}
