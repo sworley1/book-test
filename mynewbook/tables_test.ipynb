{
 "cells": [
  {
   "cell_type": "markdown",
   "metadata": {},
   "source": [
    "# Interactive Tables in Jupyter Book\n",
    "---\n",
    "A look at the `itables` package \n",
    "\n",
    "[Link](https://mwouts.github.io/itables/advanced_parameters.html)"
   ]
  },
  {
   "cell_type": "code",
   "execution_count": 4,
   "metadata": {
    "tags": [
     "remove-cell"
    ]
   },
   "outputs": [],
   "source": [
    "# HIDDEN\n",
    "from itables import init_notebook_mode\n",
    "#init_notebook_mode(all_interactive=True)"
   ]
  },
  {
   "cell_type": "code",
   "execution_count": 9,
   "metadata": {
    "tags": [
     "hide-input"
    ]
   },
   "outputs": [
    {
     "data": {
      "text/html": [
       "<table id=\"275c8d09-6776-417e-9a43-f47740562e33\" class=\"display\"style=\"max-width:100%\"><thead>\n",
       "    <tr style=\"text-align: right;\">\n",
       "      \n",
       "      <th>date</th>\n",
       "      <th>state</th>\n",
       "      <th>fips</th>\n",
       "      <th>cases</th>\n",
       "      <th>deaths</th>\n",
       "      <th>confirmed_cases</th>\n",
       "      <th>confirmed_deaths</th>\n",
       "      <th>probable_cases</th>\n",
       "      <th>probable_deaths</th>\n",
       "    </tr>\n",
       "  </thead><tbody><tr><td>Loading... (need <a href=https://mwouts.github.io/itables/troubleshooting.html>help</a>?)</td></tr></tbody></table>\n",
       "<link rel=\"stylesheet\" type=\"text/css\" href=\"https://cdn.datatables.net/1.11.3/css/jquery.dataTables.min.css\">\n",
       "<style> table td {\n",
       "    text-overflow: ellipsis;\n",
       "    overflow: hidden;\n",
       "} </style>\n",
       "<style> table th {\n",
       "    text-overflow: ellipsis;\n",
       "    overflow: hidden;\n",
       "} </style>\n",
       "<script type=\"module\">\n",
       "    // Define the table data\n",
       "    const data = [[\"2022-04-15\", \"Alabama\", 1, 1297649, 19475, 933560.0, 14953.0, 364089.0, 4522.0], [\"2022-04-15\", \"Alaska\", 2, 248375, 1196, 0.0, 1196.0, 248375.0, 0.0], [\"2022-04-15\", \"American Samoa\", 60, 5517, 12, 5517.0, 12.0, 0.0, 0.0], [\"2022-04-15\", \"Arizona\", 4, 2016797, 29823, NaN, NaN, NaN, NaN], [\"2022-04-15\", \"Arkansas\", 5, 834037, 11332, 0.0, NaN, 834037.0, NaN]];\n",
       "\n",
       "    if (typeof require === 'undefined') {\n",
       "        // TODO: This should become the default (use a simple import)\n",
       "        // when the ESM version works independently of whether\n",
       "        // require.js is there or not, see\n",
       "        // https://datatables.net/forums/discussion/69066/esm-es6-module-support?\n",
       "        const {default: $} = await import(\"https://esm.sh/jquery@3.5.0\");\n",
       "        const {default: initDataTables} = await import(\"https://esm.sh/datatables.net@1.11.3?deps=jquery@3.5.0\");\n",
       "\n",
       "        initDataTables();\n",
       "\n",
       "        // Define the dt_args\n",
       "        let dt_args = {\"paging\": false};\n",
       "        dt_args[\"data\"] = data;\n",
       "\n",
       "        // Display the table\n",
       "        $(document).ready(function () {\n",
       "            $('#275c8d09-6776-417e-9a43-f47740562e33').DataTable(dt_args);\n",
       "        });\n",
       "    } else {\n",
       "        require([\"jquery\", \"datatables\"], ($, datatables) => {\n",
       "                // Define the dt_args\n",
       "                let dt_args = {\"paging\": false};\n",
       "                dt_args[\"data\"] = data;\n",
       "\n",
       "                // Display the table\n",
       "                $(document).ready(function () {\n",
       "                    $('#275c8d09-6776-417e-9a43-f47740562e33').DataTable(dt_args);\n",
       "                });\n",
       "            }\n",
       "        )\n",
       "    }\n",
       "</script>\n"
      ],
      "text/plain": [
       "         date           state  ...  probable_cases  probable_deaths\n",
       "0  2022-04-15         Alabama  ...        364089.0           4522.0\n",
       "1  2022-04-15          Alaska  ...        248375.0              0.0\n",
       "2  2022-04-15  American Samoa  ...             0.0              0.0\n",
       "3  2022-04-15         Arizona  ...             NaN              NaN\n",
       "4  2022-04-15        Arkansas  ...        834037.0              NaN\n",
       "\n",
       "[5 rows x 9 columns]"
      ]
     },
     "execution_count": 9,
     "metadata": {},
     "output_type": "execute_result"
    }
   ],
   "source": [
    "# HIDE CODE\n",
    "from itables import show\n",
    "import pandas as pd \n",
    "\n",
    "df = pd.read_csv(\"https://raw.githubusercontent.com/nytimes/covid-19-data/master/live/us-states.csv\")\n",
    "df[:5]"
   ]
  },
  {
   "cell_type": "markdown",
   "metadata": {},
   "source": [
    "using the `show()` function "
   ]
  },
  {
   "cell_type": "code",
   "execution_count": 12,
   "metadata": {},
   "outputs": [
    {
     "data": {
      "text/html": [
       "<table id=\"a47f384f-7a9c-48c7-8136-4d21dee7a684\" class=\"display\"style=\"max-width:100%\"><thead>\n",
       "    <tr style=\"text-align: right;\">\n",
       "      \n",
       "      <th>date</th>\n",
       "      <th>state</th>\n",
       "      <th>fips</th>\n",
       "      <th>cases</th>\n",
       "      <th>deaths</th>\n",
       "      <th>confirmed_cases</th>\n",
       "      <th>confirmed_deaths</th>\n",
       "      <th>probable_cases</th>\n",
       "      <th>probable_deaths</th>\n",
       "    </tr>\n",
       "  </thead><tbody><tr><td>Loading... (need <a href=https://mwouts.github.io/itables/troubleshooting.html>help</a>?)</td></tr></tbody></table>\n",
       "<link rel=\"stylesheet\" type=\"text/css\" href=\"https://cdn.datatables.net/1.11.3/css/jquery.dataTables.min.css\">\n",
       "<style> table td {\n",
       "    text-overflow: ellipsis;\n",
       "    overflow: hidden;\n",
       "} </style>\n",
       "<style> table th {\n",
       "    text-overflow: ellipsis;\n",
       "    overflow: hidden;\n",
       "} </style>\n",
       "<script type=\"module\">\n",
       "    // Define the table data\n",
       "    const data = [[\"2022-04-15\", \"Alabama\", 1, 1297649, 19475, 933560.0, 14953.0, 364089.0, 4522.0], [\"2022-04-15\", \"Alaska\", 2, 248375, 1196, 0.0, 1196.0, 248375.0, 0.0], [\"2022-04-15\", \"American Samoa\", 60, 5517, 12, 5517.0, 12.0, 0.0, 0.0], [\"2022-04-15\", \"Arizona\", 4, 2016797, 29823, NaN, NaN, NaN, NaN], [\"2022-04-15\", \"Arkansas\", 5, 834037, 11332, 0.0, NaN, 834037.0, NaN], [\"2022-04-15\", \"California\", 6, 9151205, 89629, 8754835.0, 89358.0, 396370.0, 271.0], [\"2022-04-15\", \"Colorado\", 8, 1369106, 12222, NaN, NaN, NaN, NaN], [\"2022-04-15\", \"Connecticut\", 9, 744459, 10809, NaN, NaN, NaN, NaN], [\"2022-04-15\", \"Delaware\", 10, 259796, 2884, NaN, NaN, NaN, NaN], [\"2022-04-15\", \"District of Columbia\", 11, 139160, 1333, 134623.0, 1319.0, 4537.0, 14.0], [\"2022-04-15\", \"Florida\", 12, 5875505, 73656, 0.0, NaN, 5875505.0, NaN], [\"2022-04-15\", \"Georgia\", 13, 2436297, 36042, 1880089.0, 30421.0, 556208.0, 5621.0], [\"2022-04-15\", \"Guam\", 66, 48651, 355, 41022.0, 355.0, 7629.0, 0.0], [\"2022-04-15\", \"Hawaii\", 15, 237097, 1387, NaN, NaN, NaN, NaN], [\"2022-04-15\", \"Idaho\", 16, 445107, 4914, 348782.0, 4001.0, 96325.0, 913.0], [\"2022-04-15\", \"Illinois\", 17, 3097741, 37806, 2608459.0, 33541.0, 489282.0, 4265.0], [\"2022-04-15\", \"Indiana\", 18, 1693565, 23509, 1693565.0, 22576.0, 0.0, 933.0], [\"2022-04-15\", \"Iowa\", 19, 760377, 9475, 587601.0, NaN, 172776.0, NaN], [\"2022-04-15\", \"Kansas\", 20, 772058, 8501, NaN, NaN, NaN, NaN], [\"2022-04-15\", \"Kentucky\", 21, 1329565, 15212, NaN, NaN, NaN, NaN], [\"2022-04-15\", \"Louisiana\", 22, 1234650, 17194, 889552.0, 14647.0, 345098.0, 2547.0], [\"2022-04-15\", \"Maine\", 23, 239130, 2276, 173146.0, 2276.0, 65984.0, 0.0], [\"2022-04-15\", \"Maryland\", 24, 1018965, 14395, 1018701.0, 14131.0, 264.0, 264.0], [\"2022-04-15\", \"Massachusetts\", 25, 1721642, 20169, 1585176.0, 19052.0, 136466.0, 1117.0], [\"2022-04-15\", \"Michigan\", 26, 2395209, 35817, 2085140.0, 32985.0, 310069.0, 2832.0], [\"2022-04-15\", \"Minnesota\", 27, 1437016, 12708, 1237968.0, NaN, 199048.0, NaN], [\"2022-04-15\", \"Mississippi\", 28, 796262, 12421, 437564.0, 8183.0, 358698.0, 4238.0], [\"2022-04-15\", \"Missouri\", 29, 1430223, 20186, 1200619.0, 17087.0, 229604.0, 3099.0], [\"2022-04-15\", \"Montana\", 30, 273299, 3260, 273299.0, 3260.0, 0.0, 0.0], [\"2022-04-15\", \"Nebraska\", 31, 478419, 4191, 125264.0, 825.0, 353155.0, 3366.0], [\"2022-04-15\", \"Nevada\", 32, 715498, 10501, 655728.0, 10501.0, 59770.0, 0.0], [\"2022-04-15\", \"New Hampshire\", 33, 305119, 2464, 0.0, NaN, 305119.0, NaN], [\"2022-04-15\", \"New Jersey\", 34, 2223788, 33324, 1918216.0, 30310.0, 305572.0, 3014.0], [\"2022-04-15\", \"New Mexico\", 35, 519681, 7402, 519681.0, 7402.0, 0.0, 0.0], [\"2022-04-15\", \"New York\", 36, 5044079, 67447, 5037713.0, 61941.0, 6366.0, 5506.0], [\"2022-04-15\", \"North Carolina\", 37, 2640677, 23344, 72997.0, 299.0, 2567680.0, 23045.0], [\"2022-04-15\", \"North Dakota\", 38, 240312, 2304, 179793.0, NaN, 60519.0, NaN], [\"2022-04-15\", \"Northern Mariana Islands\", 69, 11203, 34, 11203.0, 34.0, 0.0, 0.0], [\"2022-04-15\", \"Ohio\", 39, 2681437, 38266, NaN, NaN, NaN, NaN], [\"2022-04-15\", \"Oklahoma\", 40, 1036495, 14166, 0.0, NaN, 1036495.0, NaN], [\"2022-04-15\", \"Oregon\", 41, 709125, 7427, 0.0, NaN, 709125.0, NaN], [\"2022-04-15\", \"Pennsylvania\", 42, 2793978, 44464, NaN, NaN, NaN, NaN], [\"2022-04-15\", \"Puerto Rico\", 72, 524566, 4184, 273575.0, 0.0, 250991.0, 4184.0], [\"2022-04-15\", \"Rhode Island\", 44, 365548, 3527, 0.0, NaN, 365548.0, NaN], [\"2022-04-15\", \"South Carolina\", 45, 1470597, 17698, 1156057.0, 15082.0, 314540.0, 2616.0], [\"2022-04-15\", \"South Dakota\", 46, 237370, 2898, 0.0, NaN, 237370.0, NaN], [\"2022-04-15\", \"Tennessee\", 47, 1975364, 25837, 1479910.0, 4018.0, 495454.0, 21819.0], [\"2022-04-15\", \"Texas\", 48, 6715742, 87896, 5494839.0, 31131.0, 1220903.0, 56765.0], [\"2022-04-15\", \"Utah\", 49, 929587, 4736, 0.0, 4510.0, 929587.0, 226.0], [\"2022-04-15\", \"Vermont\", 50, 119339, 623, 0.0, NaN, 119339.0, NaN], [\"2022-04-15\", \"Virginia\", 51, 1681729, 19988, NaN, NaN, NaN, NaN], [\"2022-04-15\", \"Virgin Islands\", 78, 15872, 111, 15872.0, 111.0, 0.0, 0.0], [\"2022-04-15\", \"Washington\", 53, 1472774, 12643, 1256015.0, 3272.0, 216759.0, 9371.0], [\"2022-04-15\", \"West Virginia\", 54, 498773, 6791, 395590.0, NaN, 103183.0, NaN], [\"2022-04-15\", \"Wisconsin\", 55, 1594304, 14383, 1400731.0, 12854.0, 193573.0, 1529.0], [\"2022-04-15\", \"Wyoming\", 56, 156258, 1801, 123253.0, NaN, 33005.0, NaN]];\n",
       "\n",
       "    if (typeof require === 'undefined') {\n",
       "        // TODO: This should become the default (use a simple import)\n",
       "        // when the ESM version works independently of whether\n",
       "        // require.js is there or not, see\n",
       "        // https://datatables.net/forums/discussion/69066/esm-es6-module-support?\n",
       "        const {default: $} = await import(\"https://esm.sh/jquery@3.5.0\");\n",
       "        const {default: initDataTables} = await import(\"https://esm.sh/datatables.net@1.11.3?deps=jquery@3.5.0\");\n",
       "\n",
       "        initDataTables();\n",
       "\n",
       "        // Define the dt_args\n",
       "        let dt_args = {\"scrollY\": \"400px\", \"scrollCollapse\": true, \"paging\": false};\n",
       "        dt_args[\"data\"] = data;\n",
       "\n",
       "        // Display the table\n",
       "        $(document).ready(function () {\n",
       "            $('#a47f384f-7a9c-48c7-8136-4d21dee7a684').DataTable(dt_args);\n",
       "        });\n",
       "    } else {\n",
       "        require([\"jquery\", \"datatables\"], ($, datatables) => {\n",
       "                // Define the dt_args\n",
       "                let dt_args = {\"scrollY\": \"400px\", \"scrollCollapse\": true, \"paging\": false};\n",
       "                dt_args[\"data\"] = data;\n",
       "\n",
       "                // Display the table\n",
       "                $(document).ready(function () {\n",
       "                    $('#a47f384f-7a9c-48c7-8136-4d21dee7a684').DataTable(dt_args);\n",
       "                });\n",
       "            }\n",
       "        )\n",
       "    }\n",
       "</script>\n"
      ],
      "text/plain": [
       "<IPython.core.display.HTML object>"
      ]
     },
     "metadata": {},
     "output_type": "display_data"
    }
   ],
   "source": [
    "show(df, scrollY=\"400px\", scrollCollapse=True, paging=False)"
   ]
  }
 ],
 "metadata": {
  "interpreter": {
   "hash": "6f37c66ed9fe84b8a5f5c89494f1f03ef20ce33e4117f2431c44ab79e555bbc0"
  },
  "kernelspec": {
   "display_name": "Python 3.7.4 ('base')",
   "language": "python",
   "name": "python3"
  },
  "language_info": {
   "codemirror_mode": {
    "name": "ipython",
    "version": 3
   },
   "file_extension": ".py",
   "mimetype": "text/x-python",
   "name": "python",
   "nbconvert_exporter": "python",
   "pygments_lexer": "ipython3",
   "version": "3.7.4"
  }
 },
 "nbformat": 4,
 "nbformat_minor": 2
}
